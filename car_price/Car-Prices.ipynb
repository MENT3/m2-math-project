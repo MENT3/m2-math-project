{
 "cells": [
  {
   "cell_type": "markdown",
   "metadata": {},
   "source": [
    "# Car Prices"
   ]
  },
  {
   "cell_type": "markdown",
   "metadata": {},
   "source": [
    "🎯 This exercise consists of the data preparation and feature selection techniques you have learnt today to a new dataset.\n",
    "\n",
    "👇 Download the Cars.csv and place it in the data folder. Load into this notebook as a pandas dataframe named df, and display its first 5 rows."
   ]
  },
  {
   "cell_type": "code",
   "execution_count": 136,
   "metadata": {},
   "outputs": [],
   "source": [
    "# Import all necessary modules\n",
    "import numpy as np\n",
    "import pandas as pd\n",
    "import seaborn as sns\n",
    "import matplotlib.pyplot as plt\n",
    "from sklearn.preprocessing import RobustScaler, MinMaxScaler, OneHotEncoder, OrdinalEncoder, StandardScaler\n",
    "from sklearn.model_selection import cross_validate, train_test_split\n",
    "from sklearn.linear_model import LinearRegression\n",
    "from sklearn.linear_model import LogisticRegression\n",
    "from sklearn.inspection import permutation_importance"
   ]
  },
  {
   "cell_type": "code",
   "execution_count": 137,
   "metadata": {
    "tags": [
     "challengify"
    ]
   },
   "outputs": [
    {
     "data": {
      "text/html": [
       "<div>\n",
       "<style scoped>\n",
       "    .dataframe tbody tr th:only-of-type {\n",
       "        vertical-align: middle;\n",
       "    }\n",
       "\n",
       "    .dataframe tbody tr th {\n",
       "        vertical-align: top;\n",
       "    }\n",
       "\n",
       "    .dataframe thead th {\n",
       "        text-align: right;\n",
       "    }\n",
       "</style>\n",
       "<table border=\"1\" class=\"dataframe\">\n",
       "  <thead>\n",
       "    <tr style=\"text-align: right;\">\n",
       "      <th></th>\n",
       "      <th>car_ID</th>\n",
       "      <th>symboling</th>\n",
       "      <th>CarName</th>\n",
       "      <th>fueltype</th>\n",
       "      <th>aspiration</th>\n",
       "      <th>doornumber</th>\n",
       "      <th>carbody</th>\n",
       "      <th>drivewheel</th>\n",
       "      <th>enginelocation</th>\n",
       "      <th>wheelbase</th>\n",
       "      <th>...</th>\n",
       "      <th>enginesize</th>\n",
       "      <th>fuelsystem</th>\n",
       "      <th>boreratio</th>\n",
       "      <th>stroke</th>\n",
       "      <th>compressionratio</th>\n",
       "      <th>horsepower</th>\n",
       "      <th>peakrpm</th>\n",
       "      <th>citympg</th>\n",
       "      <th>highwaympg</th>\n",
       "      <th>price</th>\n",
       "    </tr>\n",
       "  </thead>\n",
       "  <tbody>\n",
       "    <tr>\n",
       "      <th>0</th>\n",
       "      <td>1</td>\n",
       "      <td>3</td>\n",
       "      <td>alfa-romero giulia</td>\n",
       "      <td>gas</td>\n",
       "      <td>std</td>\n",
       "      <td>two</td>\n",
       "      <td>convertible</td>\n",
       "      <td>rwd</td>\n",
       "      <td>front</td>\n",
       "      <td>88.6</td>\n",
       "      <td>...</td>\n",
       "      <td>130</td>\n",
       "      <td>mpfi</td>\n",
       "      <td>3.47</td>\n",
       "      <td>2.68</td>\n",
       "      <td>9.0</td>\n",
       "      <td>111</td>\n",
       "      <td>5000</td>\n",
       "      <td>21</td>\n",
       "      <td>27</td>\n",
       "      <td>13495.0</td>\n",
       "    </tr>\n",
       "    <tr>\n",
       "      <th>1</th>\n",
       "      <td>2</td>\n",
       "      <td>3</td>\n",
       "      <td>alfa-romero stelvio</td>\n",
       "      <td>gas</td>\n",
       "      <td>std</td>\n",
       "      <td>two</td>\n",
       "      <td>convertible</td>\n",
       "      <td>rwd</td>\n",
       "      <td>front</td>\n",
       "      <td>88.6</td>\n",
       "      <td>...</td>\n",
       "      <td>130</td>\n",
       "      <td>mpfi</td>\n",
       "      <td>3.47</td>\n",
       "      <td>2.68</td>\n",
       "      <td>9.0</td>\n",
       "      <td>111</td>\n",
       "      <td>5000</td>\n",
       "      <td>21</td>\n",
       "      <td>27</td>\n",
       "      <td>16500.0</td>\n",
       "    </tr>\n",
       "    <tr>\n",
       "      <th>2</th>\n",
       "      <td>3</td>\n",
       "      <td>1</td>\n",
       "      <td>alfa-romero Quadrifoglio</td>\n",
       "      <td>gas</td>\n",
       "      <td>std</td>\n",
       "      <td>two</td>\n",
       "      <td>hatchback</td>\n",
       "      <td>rwd</td>\n",
       "      <td>front</td>\n",
       "      <td>94.5</td>\n",
       "      <td>...</td>\n",
       "      <td>152</td>\n",
       "      <td>mpfi</td>\n",
       "      <td>2.68</td>\n",
       "      <td>3.47</td>\n",
       "      <td>9.0</td>\n",
       "      <td>154</td>\n",
       "      <td>5000</td>\n",
       "      <td>19</td>\n",
       "      <td>26</td>\n",
       "      <td>16500.0</td>\n",
       "    </tr>\n",
       "    <tr>\n",
       "      <th>3</th>\n",
       "      <td>4</td>\n",
       "      <td>2</td>\n",
       "      <td>audi 100 ls</td>\n",
       "      <td>gas</td>\n",
       "      <td>std</td>\n",
       "      <td>four</td>\n",
       "      <td>sedan</td>\n",
       "      <td>fwd</td>\n",
       "      <td>front</td>\n",
       "      <td>99.8</td>\n",
       "      <td>...</td>\n",
       "      <td>109</td>\n",
       "      <td>mpfi</td>\n",
       "      <td>3.19</td>\n",
       "      <td>3.40</td>\n",
       "      <td>10.0</td>\n",
       "      <td>102</td>\n",
       "      <td>5500</td>\n",
       "      <td>24</td>\n",
       "      <td>30</td>\n",
       "      <td>13950.0</td>\n",
       "    </tr>\n",
       "    <tr>\n",
       "      <th>4</th>\n",
       "      <td>5</td>\n",
       "      <td>2</td>\n",
       "      <td>audi 100ls</td>\n",
       "      <td>gas</td>\n",
       "      <td>std</td>\n",
       "      <td>four</td>\n",
       "      <td>sedan</td>\n",
       "      <td>4wd</td>\n",
       "      <td>front</td>\n",
       "      <td>99.4</td>\n",
       "      <td>...</td>\n",
       "      <td>136</td>\n",
       "      <td>mpfi</td>\n",
       "      <td>3.19</td>\n",
       "      <td>3.40</td>\n",
       "      <td>8.0</td>\n",
       "      <td>115</td>\n",
       "      <td>5500</td>\n",
       "      <td>18</td>\n",
       "      <td>22</td>\n",
       "      <td>17450.0</td>\n",
       "    </tr>\n",
       "  </tbody>\n",
       "</table>\n",
       "<p>5 rows × 26 columns</p>\n",
       "</div>"
      ],
      "text/plain": [
       "   car_ID  symboling                   CarName fueltype aspiration doornumber  \\\n",
       "0       1          3        alfa-romero giulia      gas        std        two   \n",
       "1       2          3       alfa-romero stelvio      gas        std        two   \n",
       "2       3          1  alfa-romero Quadrifoglio      gas        std        two   \n",
       "3       4          2               audi 100 ls      gas        std       four   \n",
       "4       5          2                audi 100ls      gas        std       four   \n",
       "\n",
       "       carbody drivewheel enginelocation  wheelbase  ...  enginesize  \\\n",
       "0  convertible        rwd          front       88.6  ...         130   \n",
       "1  convertible        rwd          front       88.6  ...         130   \n",
       "2    hatchback        rwd          front       94.5  ...         152   \n",
       "3        sedan        fwd          front       99.8  ...         109   \n",
       "4        sedan        4wd          front       99.4  ...         136   \n",
       "\n",
       "   fuelsystem  boreratio  stroke compressionratio horsepower  peakrpm citympg  \\\n",
       "0        mpfi       3.47    2.68              9.0        111     5000      21   \n",
       "1        mpfi       3.47    2.68              9.0        111     5000      21   \n",
       "2        mpfi       2.68    3.47              9.0        154     5000      19   \n",
       "3        mpfi       3.19    3.40             10.0        102     5500      24   \n",
       "4        mpfi       3.19    3.40              8.0        115     5500      18   \n",
       "\n",
       "   highwaympg    price  \n",
       "0          27  13495.0  \n",
       "1          27  16500.0  \n",
       "2          26  16500.0  \n",
       "3          30  13950.0  \n",
       "4          22  17450.0  \n",
       "\n",
       "[5 rows x 26 columns]"
      ]
     },
     "execution_count": 137,
     "metadata": {},
     "output_type": "execute_result"
    }
   ],
   "source": [
    "# Load CSV into dataframe and display the 5 first rows\n",
    "df = pd.read_csv(\"cars.csv\")\n",
    "df.head(5)"
   ]
  },
  {
   "cell_type": "markdown",
   "metadata": {},
   "source": [
    "ℹ️ The description of the dataset is available . Make sure to use refer to it through the exercise."
   ]
  },
  {
   "cell_type": "markdown",
   "metadata": {},
   "source": [
    "# Duplicates"
   ]
  },
  {
   "cell_type": "markdown",
   "metadata": {},
   "source": [
    "👇 Remove the duplicates from the dataset if there are any. Overwite the dataframe `df`."
   ]
  },
  {
   "cell_type": "code",
   "execution_count": 138,
   "metadata": {
    "tags": [
     "challengify"
    ]
   },
   "outputs": [
    {
     "name": "stdout",
     "output_type": "stream",
     "text": [
      "Duplicated values : 0\n"
     ]
    }
   ],
   "source": [
    "# Count and display duplicated values\n",
    "print('Duplicated values : {}'.format(df.duplicated().sum()))\n",
    "# No duplicated but if duplicates run this line :\n",
    "# df = df.drop_duplicates()"
   ]
  },
  {
   "cell_type": "markdown",
   "metadata": {},
   "source": [
    "# Missing values"
   ]
  },
  {
   "cell_type": "markdown",
   "metadata": {},
   "source": [
    "👇 Locate missing values, investigate them, and apply the solutions below accordingly:\n",
    "\n",
    "- Impute with most frequent\n",
    "- Impute with median\n",
    "\n",
    "Make changes effective in the dataset `df`."
   ]
  },
  {
   "cell_type": "code",
   "execution_count": 139,
   "metadata": {
    "tags": [
     "challengify"
    ]
   },
   "outputs": [
    {
     "name": "stdout",
     "output_type": "stream",
     "text": [
      "Null values :\n",
      "car_ID              0\n",
      "symboling           0\n",
      "CarName             0\n",
      "fueltype            0\n",
      "aspiration          0\n",
      "doornumber          0\n",
      "carbody             0\n",
      "drivewheel          0\n",
      "enginelocation      0\n",
      "wheelbase           0\n",
      "carlength           0\n",
      "carwidth            0\n",
      "carheight           0\n",
      "curbweight          0\n",
      "enginetype          0\n",
      "cylindernumber      0\n",
      "enginesize          0\n",
      "fuelsystem          0\n",
      "boreratio           0\n",
      "stroke              0\n",
      "compressionratio    0\n",
      "horsepower          0\n",
      "peakrpm             0\n",
      "citympg             0\n",
      "highwaympg          0\n",
      "price               0\n",
      "dtype: int64\n"
     ]
    }
   ],
   "source": [
    "# Count and display null values\n",
    "print('Null values :\\n{}'.format(df.isna().sum()))\n",
    "\n",
    "# No missing values but if missing values run this line : \n",
    "# df = df.dropna() "
   ]
  },
  {
   "cell_type": "markdown",
   "metadata": {},
   "source": [
    "## `carwidth`"
   ]
  },
  {
   "cell_type": "markdown",
   "metadata": {},
   "source": [
    "<details>\n",
    "    <summary> 💡 Hint </summary>\n",
    "    <br>\n",
    "    ℹ️ <code>carwidth</code> has multiple representations of missing values. Some are <code>np.nans</code>, some are  <code>*</code>. Once located, they can be imputed by the median value, since there is less than 30% of missing values.\n",
    "</details> "
   ]
  },
  {
   "cell_type": "code",
   "execution_count": 140,
   "metadata": {
    "tags": [
     "challengify"
    ]
   },
   "outputs": [
    {
     "name": "stdout",
     "output_type": "stream",
     "text": [
      "Number of null values in carwidth : 0\n"
     ]
    }
   ],
   "source": [
    "# Check and display null values of \"carwidth\" column\n",
    "print('Number of null values in carwidth : {}'.format(df['carwidth'].isnull().sum()))\n",
    "# No np.nans"
   ]
  },
  {
   "cell_type": "markdown",
   "metadata": {},
   "source": [
    "## `enginelocation`"
   ]
  },
  {
   "cell_type": "markdown",
   "metadata": {},
   "source": [
    "<details>\n",
    "    <summary>💡 Hint </summary>\n",
    "    <br>\n",
    "    ℹ️ Considering that <code>enginelocation</code> is a categorical feature, and that the vast majority of the category is front, impute with the most frequent.\n",
    "</details>"
   ]
  },
  {
   "cell_type": "code",
   "execution_count": 141,
   "metadata": {
    "tags": [
     "challengify"
    ]
   },
   "outputs": [
    {
     "name": "stdout",
     "output_type": "stream",
     "text": [
      "Number of null values in carwidth : 0\n",
      "\n",
      "Values on engine location :\n",
      "front    202\n",
      "rear       3\n",
      "Name: enginelocation, dtype: int64\n"
     ]
    }
   ],
   "source": [
    "# Check and display null values of \"enginelocation\" column\n",
    "print('Number of null values in carwidth : {}\\n\\nValues on engine location :\\n{}'.format(df['enginelocation'].isnull().sum(), df['enginelocation'].value_counts()))\n",
    "# No missing values so no changes "
   ]
  },
  {
   "cell_type": "markdown",
   "metadata": {},
   "source": [
    "# Scaling"
   ]
  },
  {
   "cell_type": "markdown",
   "metadata": {},
   "source": [
    "👇 Investigate the numerical features for outliers and distribution, and apply the solutions below accordingly:\n",
    "- Robust Scale\n",
    "- Standard Scale\n",
    "\n",
    "Replace the original columns by the transformed values."
   ]
  },
  {
   "cell_type": "markdown",
   "metadata": {},
   "source": [
    "## `peakrpm` , `carwidth` , & `stroke`"
   ]
  },
  {
   "cell_type": "markdown",
   "metadata": {},
   "source": [
    "<details>\n",
    "    <summary>💡 Hint </summary>\n",
    "    <br>\n",
    "    ℹ️ <code>peakrpm</code>, <code>carwidth</code>, & <code>stroke</code> have normal distributions and outliers. They must be Robust Scaled.\n",
    "</details>"
   ]
  },
  {
   "cell_type": "code",
   "execution_count": 142,
   "metadata": {
    "tags": [
     "challengify"
    ]
   },
   "outputs": [
    {
     "name": "stdout",
     "output_type": "stream",
     "text": [
      "Values on peakrpm :\n",
      "5500    37\n",
      "4800    36\n",
      "5000    27\n",
      "5200    23\n",
      "5400    13\n",
      "6000     9\n",
      "4500     7\n",
      "5800     7\n",
      "5250     7\n",
      "5100     5\n",
      "4150     5\n",
      "4200     5\n",
      "4350     4\n",
      "4750     4\n",
      "5900     3\n",
      "4250     3\n",
      "4400     3\n",
      "6600     2\n",
      "4650     1\n",
      "5600     1\n",
      "5750     1\n",
      "4900     1\n",
      "5300     1\n",
      "Name: peakrpm, dtype: int64\n"
     ]
    }
   ],
   "source": [
    "print('Values on peakrpm :\\n{}'.format(df[\"peakrpm\"].value_counts()))\n"
   ]
  },
  {
   "cell_type": "code",
   "execution_count": 143,
   "metadata": {
    "tags": [
     "delete"
    ]
   },
   "outputs": [],
   "source": [
    "# Function used to apply robust scaler on dataframe column\n",
    "def robust_scale(df, column):\n",
    "    transformer = RobustScaler().fit(df[[column]])\n",
    "    df[column] = transformer.transform(df[[column]])\n",
    "    return df"
   ]
  },
  {
   "cell_type": "code",
   "execution_count": 144,
   "metadata": {},
   "outputs": [
    {
     "name": "stdout",
     "output_type": "stream",
     "text": [
      "Values of peakrpm after apply robust scaler :\n",
      " 0.428571    37\n",
      "-0.571429    36\n",
      "-0.285714    27\n",
      " 0.000000    23\n",
      " 0.285714    13\n",
      " 1.142857     9\n",
      "-1.000000     7\n",
      " 0.857143     7\n",
      " 0.071429     7\n",
      "-0.142857     5\n",
      "-1.500000     5\n",
      "-1.428571     5\n",
      "-1.214286     4\n",
      "-0.642857     4\n",
      " 1.000000     3\n",
      "-1.357143     3\n",
      "-1.142857     3\n",
      " 2.000000     2\n",
      "-0.785714     1\n",
      " 0.571429     1\n",
      " 0.785714     1\n",
      "-0.428571     1\n",
      " 0.142857     1\n",
      "Name: peakrpm, dtype: int64\n"
     ]
    }
   ],
   "source": [
    "# Apply robust scaler on peakrpm column\n",
    "df = robust_scale(df, \"peakrpm\")\n",
    "print(\"Values of peakrpm after apply robust scaler :\\n{}\".format(df[\"peakrpm\"].value_counts()))"
   ]
  },
  {
   "cell_type": "code",
   "execution_count": 145,
   "metadata": {},
   "outputs": [
    {
     "name": "stdout",
     "output_type": "stream",
     "text": [
      "Values of carwidth after apply robust scaler :\n",
      "-0.607143    24\n",
      " 0.357143    23\n",
      "-0.035714    15\n",
      "-0.678571    11\n",
      "-0.392857    10\n",
      " 1.035714    10\n",
      "-0.535714     9\n",
      " 0.000000     8\n",
      "-0.107143     7\n",
      "-0.464286     6\n",
      " 0.285714     6\n",
      " 0.035714     6\n",
      " 0.607143     6\n",
      " 0.857143     5\n",
      " 0.500000     5\n",
      " 0.071429     4\n",
      " 1.214286     4\n",
      "-0.250000     4\n",
      "-0.571429     3\n",
      " 1.714286     3\n",
      " 2.214286     3\n",
      " 2.107143     3\n",
      "-0.178571     3\n",
      " 1.000000     2\n",
      " 0.785714     2\n",
      "-0.500000     2\n",
      " 0.214286     2\n",
      " 1.464286     2\n",
      "-0.321429     2\n",
      " 2.321429     1\n",
      " 0.892857     1\n",
      " 1.785714     1\n",
      "-1.321429     1\n",
      " 0.178571     1\n",
      "-1.071429     1\n",
      " 1.821429     1\n",
      " 2.428571     1\n",
      " 0.392857     1\n",
      "-0.750000     1\n",
      "-1.857143     1\n",
      " 1.928571     1\n",
      " 0.321429     1\n",
      " 0.250000     1\n",
      " 1.178571     1\n",
      "Name: carwidth, dtype: int64\n"
     ]
    }
   ],
   "source": [
    "# Apply robust scaler on carwidth column\n",
    "df = robust_scale(df, \"carwidth\")\n",
    "print(\"Values of carwidth after apply robust scaler :\\n{}\".format(df[\"carwidth\"].value_counts()))"
   ]
  },
  {
   "cell_type": "code",
   "execution_count": 146,
   "metadata": {},
   "outputs": [
    {
     "name": "stdout",
     "output_type": "stream",
     "text": [
      "Values of stroke after apply robust scaler :\n",
      " 0.366667    20\n",
      "-0.200000    14\n",
      "-0.466667    14\n",
      "-0.866667    14\n",
      " 0.333333    13\n",
      "-2.166667    11\n",
      " 0.000000     9\n",
      " 0.200000     9\n",
      " 0.566667     8\n",
      "-0.600000     6\n",
      "-0.066667     6\n",
      " 0.400000     6\n",
      "-0.733333     6\n",
      " 0.966667     6\n",
      "-0.333333     6\n",
      " 0.700000     6\n",
      " 1.166667     5\n",
      " 0.766667     5\n",
      " 1.900000     4\n",
      " 0.833333     4\n",
      " 0.600000     4\n",
      "-0.116667     4\n",
      " 2.033333     3\n",
      "-1.300000     3\n",
      "-0.633333     2\n",
      " 2.933333     2\n",
      "-1.633333     2\n",
      "-3.666667     2\n",
      "-0.700000     2\n",
      "-2.033333     2\n",
      "-3.100000     1\n",
      "-0.433333     1\n",
      "-4.066667     1\n",
      "-0.266667     1\n",
      "-0.566667     1\n",
      "-1.766667     1\n",
      "-1.400000     1\n",
      "Name: stroke, dtype: int64\n"
     ]
    }
   ],
   "source": [
    "# Apply robust scaler on stroke column\n",
    "df = robust_scale(df, \"stroke\")\n",
    "print(\"Values of stroke after apply robust scaler :\\n{}\".format(df[\"stroke\"].value_counts()))"
   ]
  },
  {
   "cell_type": "markdown",
   "metadata": {},
   "source": [
    "## `curbweight`"
   ]
  },
  {
   "cell_type": "markdown",
   "metadata": {},
   "source": [
    "<details>\n",
    "    <summary>💡 Hint </summary>\n",
    "    <br>\n",
    "    ℹ️ <code>curbweight</code> has a normal distribution and no outliers. It can be Standard Scaled.\n",
    "</details>"
   ]
  },
  {
   "cell_type": "code",
   "execution_count": 147,
   "metadata": {
    "tags": [
     "challengify"
    ]
   },
   "outputs": [
    {
     "name": "stdout",
     "output_type": "stream",
     "text": [
      "Values of curbweight column:\n",
      "2385    4\n",
      "1918    3\n",
      "2275    3\n",
      "1989    3\n",
      "2410    2\n",
      "       ..\n",
      "2370    1\n",
      "2328    1\n",
      "2833    1\n",
      "2921    1\n",
      "3062    1\n",
      "Name: curbweight, Length: 171, dtype: int64\n"
     ]
    }
   ],
   "source": [
    "print('Values of curbweight column:\\n{}'.format(df[\"curbweight\"].value_counts()))"
   ]
  },
  {
   "cell_type": "code",
   "execution_count": 148,
   "metadata": {
    "tags": [
     "challengify"
    ]
   },
   "outputs": [
    {
     "name": "stdout",
     "output_type": "stream",
     "text": [
      "Values of curbweight column:\n",
      "-0.328385    4\n",
      "-1.227484    3\n",
      "-0.540164    3\n",
      "-1.090790    3\n",
      "-0.280253    2\n",
      "            ..\n",
      "-0.357264    1\n",
      "-0.438125    1\n",
      " 0.534135    1\n",
      " 0.703558    1\n",
      " 0.975021    1\n",
      "Name: curbweight, Length: 171, dtype: int64\n"
     ]
    }
   ],
   "source": [
    "# Apply standard scaler on curbweight column\n",
    "scaler = StandardScaler()\n",
    "transformer = scaler.fit(df[[\"curbweight\"]])\n",
    "df[\"curbweight\"] = transformer.transform(df[[\"curbweight\"]])\n",
    "print('Values of curbweight column:\\n{}'.format(df[\"curbweight\"].value_counts()))"
   ]
  },
  {
   "cell_type": "code",
   "execution_count": 149,
   "metadata": {},
   "outputs": [
    {
     "data": {
      "image/png": "[encoded data removed]",
      "text/plain": [
       "<Figure size 1200x1200 with 2 Axes>"
      ]
     },
     "metadata": {},
     "output_type": "display_data"
    }
   ],
   "source": [
    "# Display correlation heatmap \n",
    "corr = df.corr(numeric_only=True)\n",
    "mask = np.triu(np.ones_like(corr, dtype=bool))\n",
    "plt.figure(figsize=(12, 12))\n",
    "sns.heatmap(corr, square=True, annot=True, mask=mask)\n",
    "plt.show()"
   ]
  },
  {
   "cell_type": "markdown",
   "metadata": {},
   "source": [
    "# Encoding"
   ]
  },
  {
   "cell_type": "markdown",
   "metadata": {},
   "source": [
    "👇 Investigate the features that require encoding, and apply the following techniques accordingly:\n",
    "\n",
    "- One hot encoding\n",
    "- Manual ordinal encoding\n",
    "\n",
    "In the dataframe, replace the original features by their encoded version(s)."
   ]
  },
  {
   "cell_type": "markdown",
   "metadata": {},
   "source": [
    "## `aspiration` & `enginelocation`"
   ]
  },
  {
   "cell_type": "code",
   "execution_count": 150,
   "metadata": {
    "tags": [
     "challengify"
    ]
   },
   "outputs": [
    {
     "name": "stdout",
     "output_type": "stream",
     "text": [
      "aspiration column values:\n",
      "std      168\n",
      "turbo     37\n",
      "Name: aspiration, dtype: int64\n",
      "\n",
      "enginelocation column values:\n",
      "front    202\n",
      "rear       3\n",
      "Name: enginelocation, dtype: int64\n"
     ]
    }
   ],
   "source": [
    "print(\"aspiration column values:\\n{}\\n\\nenginelocation column values:\\n{}\".format(df[\"aspiration\"].value_counts() , df[\"enginelocation\"].value_counts()))"
   ]
  },
  {
   "cell_type": "code",
   "execution_count": 151,
   "metadata": {
    "tags": [
     "delete"
    ]
   },
   "outputs": [
    {
     "name": "stdout",
     "output_type": "stream",
     "text": [
      "aspirationEncode column values :\n",
      "0.0    168\n",
      "1.0     37\n",
      "Name: aspirationEncode, dtype: int64\n",
      "\n",
      "enginelocationEncode column values :\n",
      "0.0    202\n",
      "1.0      3\n",
      "Name: enginelocationEncode, dtype: int64\n"
     ]
    }
   ],
   "source": [
    "# Function used to perform ordinal encoding on dataframe column\n",
    "def ordinal_encoder(df, column):\n",
    "    encoder = OrdinalEncoder()\n",
    "    o_encoder = encoder.fit_transform(df[[column]])\n",
    "    df = pd.concat([df, pd.DataFrame(o_encoder,columns=[f'{column}Encode'])], axis=1)\n",
    "    df.dropna()\n",
    "    df = df.drop(columns=column)\n",
    "    return df\n",
    "\n",
    "# Perform ordinal encoding on aspiration and enginelocation columns \n",
    "df = ordinal_encoder(df, \"aspiration\")\n",
    "df = ordinal_encoder(df, \"enginelocation\")\n",
    "\n",
    "print('aspirationEncode column values :\\n{}\\n\\nenginelocationEncode column values :\\n{}'.format(df[\"aspirationEncode\"].value_counts(), df[\"enginelocationEncode\"].value_counts()))"
   ]
  },
  {
   "cell_type": "markdown",
   "metadata": {},
   "source": [
    "## `enginetype`"
   ]
  },
  {
   "cell_type": "code",
   "execution_count": 152,
   "metadata": {
    "tags": [
     "challengify"
    ]
   },
   "outputs": [
    {
     "name": "stdout",
     "output_type": "stream",
     "text": [
      "Index(['car_ID', 'symboling', 'CarName', 'fueltype', 'doornumber', 'carbody',\n",
      "       'drivewheel', 'wheelbase', 'carlength', 'carwidth', 'carheight',\n",
      "       'curbweight', 'cylindernumber', 'enginesize', 'fuelsystem', 'boreratio',\n",
      "       'stroke', 'compressionratio', 'horsepower', 'peakrpm', 'citympg',\n",
      "       'highwaympg', 'price', 'aspirationEncode', 'enginelocationEncode',\n",
      "       'ohc', 'ohcf', 'ohcv', 'dohc', 'l', 'rotor', 'dohcv'],\n",
      "      dtype='object')\n"
     ]
    }
   ],
   "source": [
    "# Function used to perform one hot encoding on dataframe column \n",
    "def one_hot_encoder(df, column):\n",
    "    encoder = OneHotEncoder(handle_unknown='ignore').fit_transform(df[[column]]).toarray()\n",
    "    encoder = np.asmatrix(encoder)\n",
    "    df = pd.concat([df, pd.DataFrame(encoder, columns=df[column].value_counts().index)], axis=1)\n",
    "    df = df.drop(columns=column)\n",
    "    df = df.dropna()\n",
    "    return df\n",
    "\n",
    "# Perform one hot encoding on enginetype column\n",
    "df = one_hot_encoder(df, \"enginetype\")  \n",
    "\n",
    "# Performing one hot encoding replaced enginetype column by 7 new columns 'ohc', 'ohcf', 'ohcv', 'dohc', 'l', 'rotor', 'dohcv'\n",
    "print(df.columns)"
   ]
  },
  {
   "cell_type": "markdown",
   "metadata": {},
   "source": [
    "## `cylindernumber`"
   ]
  },
  {
   "cell_type": "code",
   "execution_count": 153,
   "metadata": {
    "tags": [
     "challengify"
    ]
   },
   "outputs": [
    {
     "data": {
      "text/plain": [
       "Index(['car_ID', 'symboling', 'CarName', 'fueltype', 'doornumber', 'carbody',\n",
       "       'drivewheel', 'wheelbase', 'carlength', 'carwidth', 'carheight',\n",
       "       'curbweight', 'enginesize', 'fuelsystem', 'boreratio', 'stroke',\n",
       "       'compressionratio', 'horsepower', 'peakrpm', 'citympg', 'highwaympg',\n",
       "       'price', 'aspirationEncode', 'enginelocationEncode', 'ohc', 'ohcf',\n",
       "       'ohcv', 'dohc', 'l', 'rotor', 'dohcv', 'four', 'six', 'five', 'eight',\n",
       "       'two', 'three', 'twelve'],\n",
       "      dtype='object')"
      ]
     },
     "execution_count": 153,
     "metadata": {},
     "output_type": "execute_result"
    }
   ],
   "source": [
    "# Same process with the cylindernumber column which is replaced by 7 new columns : 'four', 'six', 'five', 'eight','two', 'three', 'twelve'\n",
    "df = one_hot_encoder(df, \"cylindernumber\")\n",
    "df.columns"
   ]
  },
  {
   "cell_type": "markdown",
   "metadata": {},
   "source": [
    "## `price`"
   ]
  },
  {
   "cell_type": "markdown",
   "metadata": {},
   "source": [
    "👇 Encode the target `price`."
   ]
  },
  {
   "cell_type": "code",
   "execution_count": 154,
   "metadata": {
    "tags": [
     "challengify"
    ]
   },
   "outputs": [
    {
     "name": "stdout",
     "output_type": "stream",
     "text": [
      "Price column scaled values:\n",
      "0.094409    2\n",
      "0.103297    2\n",
      "0.069013    2\n",
      "0.094298    2\n",
      "0.065960    2\n",
      "           ..\n",
      "1.000000    1\n",
      "0.282632    1\n",
      "0.006728    1\n",
      "0.026588    1\n",
      "0.434611    1\n",
      "Name: price, Length: 189, dtype: int64\n"
     ]
    }
   ],
   "source": [
    "# Apply min max scaler on price column\n",
    "scaler = MinMaxScaler()\n",
    "price_scaled = scaler.fit_transform(df[\"price\"].to_numpy().reshape((-1, 1)))\n",
    "df[\"price\"] = price_scaled\n",
    "print('Price column scaled values:\\n{}'.format(df[\"price\"].value_counts()))"
   ]
  },
  {
   "cell_type": "markdown",
   "metadata": {},
   "source": [
    "# Collinearity"
   ]
  },
  {
   "cell_type": "markdown",
   "metadata": {},
   "source": [
    "👇 Perform a collinearity investigation on the dataset and remove unecessary features. Make changes effective in the dataframe `df`.\n",
    "\n",
    "<div style='color:green'>You can take a look at the previous cell that displayed correlation heatmap</div>"
   ]
  },
  {
   "cell_type": "code",
   "execution_count": 155,
   "metadata": {
    "tags": [
     "challengify"
    ]
   },
   "outputs": [
    {
     "data": {
      "text/html": [
       "<div>\n",
       "<style scoped>\n",
       "    .dataframe tbody tr th:only-of-type {\n",
       "        vertical-align: middle;\n",
       "    }\n",
       "\n",
       "    .dataframe tbody tr th {\n",
       "        vertical-align: top;\n",
       "    }\n",
       "\n",
       "    .dataframe thead th {\n",
       "        text-align: right;\n",
       "    }\n",
       "</style>\n",
       "<table border=\"1\" class=\"dataframe\">\n",
       "  <thead>\n",
       "    <tr style=\"text-align: right;\">\n",
       "      <th></th>\n",
       "      <th>feature1</th>\n",
       "      <th>feature2</th>\n",
       "      <th>correlation</th>\n",
       "    </tr>\n",
       "  </thead>\n",
       "  <tbody>\n",
       "    <tr>\n",
       "      <th>237</th>\n",
       "      <td>highwaympg</td>\n",
       "      <td>citympg</td>\n",
       "      <td>0.971337</td>\n",
       "    </tr>\n",
       "    <tr>\n",
       "      <th>222</th>\n",
       "      <td>citympg</td>\n",
       "      <td>highwaympg</td>\n",
       "      <td>0.971337</td>\n",
       "    </tr>\n",
       "    <tr>\n",
       "      <th>54</th>\n",
       "      <td>carlength</td>\n",
       "      <td>curbweight</td>\n",
       "      <td>0.877728</td>\n",
       "    </tr>\n",
       "    <tr>\n",
       "      <th>99</th>\n",
       "      <td>curbweight</td>\n",
       "      <td>carlength</td>\n",
       "      <td>0.877728</td>\n",
       "    </tr>\n",
       "    <tr>\n",
       "      <th>35</th>\n",
       "      <td>wheelbase</td>\n",
       "      <td>carlength</td>\n",
       "      <td>0.874587</td>\n",
       "    </tr>\n",
       "    <tr>\n",
       "      <th>50</th>\n",
       "      <td>carlength</td>\n",
       "      <td>wheelbase</td>\n",
       "      <td>0.874587</td>\n",
       "    </tr>\n",
       "    <tr>\n",
       "      <th>247</th>\n",
       "      <td>price</td>\n",
       "      <td>enginesize</td>\n",
       "      <td>0.874145</td>\n",
       "    </tr>\n",
       "    <tr>\n",
       "      <th>127</th>\n",
       "      <td>enginesize</td>\n",
       "      <td>price</td>\n",
       "      <td>0.874145</td>\n",
       "    </tr>\n",
       "    <tr>\n",
       "      <th>70</th>\n",
       "      <td>carwidth</td>\n",
       "      <td>curbweight</td>\n",
       "      <td>0.867032</td>\n",
       "    </tr>\n",
       "    <tr>\n",
       "      <th>100</th>\n",
       "      <td>curbweight</td>\n",
       "      <td>carwidth</td>\n",
       "      <td>0.867032</td>\n",
       "    </tr>\n",
       "    <tr>\n",
       "      <th>103</th>\n",
       "      <td>curbweight</td>\n",
       "      <td>enginesize</td>\n",
       "      <td>0.850594</td>\n",
       "    </tr>\n",
       "    <tr>\n",
       "      <th>118</th>\n",
       "      <td>enginesize</td>\n",
       "      <td>curbweight</td>\n",
       "      <td>0.850594</td>\n",
       "    </tr>\n",
       "    <tr>\n",
       "      <th>52</th>\n",
       "      <td>carlength</td>\n",
       "      <td>carwidth</td>\n",
       "      <td>0.841118</td>\n",
       "    </tr>\n",
       "    <tr>\n",
       "      <th>67</th>\n",
       "      <td>carwidth</td>\n",
       "      <td>carlength</td>\n",
       "      <td>0.841118</td>\n",
       "    </tr>\n",
       "    <tr>\n",
       "      <th>111</th>\n",
       "      <td>curbweight</td>\n",
       "      <td>price</td>\n",
       "      <td>0.835305</td>\n",
       "    </tr>\n",
       "    <tr>\n",
       "      <th>246</th>\n",
       "      <td>price</td>\n",
       "      <td>curbweight</td>\n",
       "      <td>0.835305</td>\n",
       "    </tr>\n",
       "    <tr>\n",
       "      <th>183</th>\n",
       "      <td>horsepower</td>\n",
       "      <td>enginesize</td>\n",
       "      <td>0.809769</td>\n",
       "    </tr>\n",
       "    <tr>\n",
       "      <th>123</th>\n",
       "      <td>enginesize</td>\n",
       "      <td>horsepower</td>\n",
       "      <td>0.809769</td>\n",
       "    </tr>\n",
       "    <tr>\n",
       "      <th>191</th>\n",
       "      <td>horsepower</td>\n",
       "      <td>price</td>\n",
       "      <td>0.808139</td>\n",
       "    </tr>\n",
       "    <tr>\n",
       "      <th>251</th>\n",
       "      <td>price</td>\n",
       "      <td>horsepower</td>\n",
       "      <td>0.808139</td>\n",
       "    </tr>\n",
       "    <tr>\n",
       "      <th>219</th>\n",
       "      <td>citympg</td>\n",
       "      <td>horsepower</td>\n",
       "      <td>-0.801456</td>\n",
       "    </tr>\n",
       "    <tr>\n",
       "      <th>189</th>\n",
       "      <td>horsepower</td>\n",
       "      <td>citympg</td>\n",
       "      <td>-0.801456</td>\n",
       "    </tr>\n",
       "  </tbody>\n",
       "</table>\n",
       "</div>"
      ],
      "text/plain": [
       "       feature1    feature2  correlation\n",
       "237  highwaympg     citympg     0.971337\n",
       "222     citympg  highwaympg     0.971337\n",
       "54    carlength  curbweight     0.877728\n",
       "99   curbweight   carlength     0.877728\n",
       "35    wheelbase   carlength     0.874587\n",
       "50    carlength   wheelbase     0.874587\n",
       "247       price  enginesize     0.874145\n",
       "127  enginesize       price     0.874145\n",
       "70     carwidth  curbweight     0.867032\n",
       "100  curbweight    carwidth     0.867032\n",
       "103  curbweight  enginesize     0.850594\n",
       "118  enginesize  curbweight     0.850594\n",
       "52    carlength    carwidth     0.841118\n",
       "67     carwidth   carlength     0.841118\n",
       "111  curbweight       price     0.835305\n",
       "246       price  curbweight     0.835305\n",
       "183  horsepower  enginesize     0.809769\n",
       "123  enginesize  horsepower     0.809769\n",
       "191  horsepower       price     0.808139\n",
       "251       price  horsepower     0.808139\n",
       "219     citympg  horsepower    -0.801456\n",
       "189  horsepower     citympg    -0.801456"
      ]
     },
     "execution_count": 155,
     "metadata": {},
     "output_type": "execute_result"
    }
   ],
   "source": [
    "# Get corr df created previsously in order to display correlation heatmap and use it to display correlation between 2 features\n",
    "corr_df = corr.unstack().reset_index()\n",
    "corr_df.columns = [\"feature1\", \"feature2\", \"correlation\"]\n",
    "corr_df.sort_values(by=\"correlation\", ascending=False, inplace=True)\n",
    "corr_df = corr_df[corr_df[\"feature1\"] != corr_df[\"feature2\"]]\n",
    "\n",
    "# We have choosen to keep only the columns where correlation is > 0.8\n",
    "corr_df = corr_df[abs(corr_df['correlation']) > 0.8]\n",
    "corr_df"
   ]
  },
  {
   "cell_type": "code",
   "execution_count": 156,
   "metadata": {
    "tags": [
     "challengify"
    ]
   },
   "outputs": [
    {
     "data": {
      "text/plain": [
       "array(['highwaympg', 'citympg', 'carlength', 'curbweight', 'wheelbase',\n",
       "       'price', 'enginesize', 'carwidth', 'horsepower'], dtype=object)"
      ]
     },
     "execution_count": 156,
     "metadata": {},
     "output_type": "execute_result"
    }
   ],
   "source": [
    "# Displayed columns that we want to keep after correlation \n",
    "corr_df[\"feature1\"].unique()"
   ]
  },
  {
   "cell_type": "markdown",
   "metadata": {},
   "source": [
    "ℹ️ Out of the highly correlated feature pairs, remove the one with less granularity."
   ]
  },
  {
   "cell_type": "markdown",
   "metadata": {},
   "source": [
    "# Base Modelling"
   ]
  },
  {
   "cell_type": "markdown",
   "metadata": {},
   "source": [
    "👇 Cross validate a Logistic regression model. Save its score under variable name `base_model_score`."
   ]
  },
  {
   "cell_type": "code",
   "execution_count": 157,
   "metadata": {},
   "outputs": [
    {
     "name": "stdout",
     "output_type": "stream",
     "text": [
      "Test score = [0.75403697 0.84735814 0.8176686  0.82423464 0.82689955]\n"
     ]
    }
   ],
   "source": [
    "df = df[list(corr_df[\"feature1\"].unique())]\n",
    "df = df.select_dtypes(exclude=['object'])\n",
    "X = df.drop(columns=\"price\")\n",
    "y = df[\"price\"]\n",
    "\n",
    "# Create our train and test data\n",
    "X_train, X_test, y_train, y_test = train_test_split(X, y, test_size=0.6, random_state=42)\n",
    "\n",
    "# Perform cross validation on X_train and y_train with LinearRegression model useto fit the data \n",
    "cv_results = cross_validate(LinearRegression(), X_train, y_train)\n",
    "base_model_score = cv_results['test_score']\n",
    "print('Test score = {}'.format(base_model_score))\n",
    "# cv_results, "
   ]
  },
  {
   "cell_type": "markdown",
   "metadata": {},
   "source": [
    "# Feature Selection"
   ]
  },
  {
   "cell_type": "markdown",
   "metadata": {},
   "source": [
    "👇 Perform feature permutation to remove the weak features from the feature set. With that strong feature set, cross-validate a new model, and save its score under variable name `strong_model_score`."
   ]
  },
  {
   "cell_type": "code",
   "execution_count": 165,
   "metadata": {
    "tags": [
     "challengify"
    ]
   },
   "outputs": [
    {
     "data": {
      "text/plain": [
       "([0, 1, 2, 3, 4, 5, 6, 7],\n",
       " [Text(0, 0, 'highwaympg'),\n",
       "  Text(1, 0, 'citympg'),\n",
       "  Text(2, 0, 'carlength'),\n",
       "  Text(3, 0, 'curbweight'),\n",
       "  Text(4, 0, 'wheelbase'),\n",
       "  Text(5, 0, 'enginesize'),\n",
       "  Text(6, 0, 'carwidth'),\n",
       "  Text(7, 0, 'horsepower')])"
      ]
     },
     "execution_count": 165,
     "metadata": {},
     "output_type": "execute_result"
    },
    {
     "data": {
      "image/png": "[encoded data removed]",
      "text/plain": [
       "<Figure size 640x480 with 1 Axes>"
      ]
     },
     "metadata": {},
     "output_type": "display_data"
    }
   ],
   "source": [
    "log_model = LinearRegression().fit(X_train, y_train)\n",
    "permutation_score = permutation_importance(log_model, X_train, y_train, n_repeats=10)\n",
    "permutation_score = pd.DataFrame(np.vstack((X_train.columns, permutation_score.importances_mean)).T)\n",
    "permutation_score.columns = [\"feature\", \"score\"]\n",
    "permutation_score.sort_values(by=\"score\", ascending=False)\n",
    "\n",
    "# Temporary solution need to be validate\n",
    "# print(permutation_score)\n",
    "plt.bar(permutation_score['feature'],permutation_score['score'])\n",
    "plt.xticks(rotation='vertical')\n",
    "# plt.scatter(permutation_score)"
   ]
  },
  {
   "cell_type": "code",
   "execution_count": null,
   "metadata": {
    "tags": [
     "delete"
    ]
   },
   "outputs": [
    {
     "data": {
      "text/plain": [
       "array([0.74594975, 0.86942094, 0.80028933, 0.79149497, 0.89458227])"
      ]
     },
     "execution_count": 818,
     "metadata": {},
     "output_type": "execute_result"
    }
   ],
   "source": [
    "X = df[[\"enginesize\", \"carwidth\"]]\n",
    "y = df[\"price\"]\n",
    "X_train, X_test, y_train, y_test = train_test_split(X, y, test_size=0.6, random_state=42)\n",
    "\n",
    "cv_results = cross_validate(LinearRegression(), X_train, y_train)\n",
    "base_model_score = cv_results['test_score']\n",
    "base_model_score"
   ]
  },
  {
   "cell_type": "markdown",
   "metadata": {},
   "source": [
    "# 🏁"
   ]
  }
 ],
 "metadata": {
  "kernelspec": {
   "display_name": "Python 3.10.4 ('venv': venv)",
   "language": "python",
   "name": "python3"
  },
  "language_info": {
   "codemirror_mode": {
    "name": "ipython",
    "version": 3
   },
   "file_extension": ".py",
   "mimetype": "text/x-python",
   "name": "python",
   "nbconvert_exporter": "python",
   "pygments_lexer": "ipython3",
   "version": "3.10.4"
  },
  "toc": {
   "base_numbering": 1,
   "nav_menu": {},
   "number_sections": false,
   "sideBar": true,
   "skip_h1_title": false,
   "title_cell": "Table of Contents",
   "title_sidebar": "Contents",
   "toc_cell": false,
   "toc_position": {},
   "toc_section_display": true,
   "toc_window_display": false
  },
  "varInspector": {
   "cols": {
    "lenName": 16,
    "lenType": 16,
    "lenVar": 40
   },
   "kernels_config": {
    "python": {
     "delete_cmd_postfix": "",
     "delete_cmd_prefix": "del ",
     "library": "var_list.py",
     "varRefreshCmd": "print(var_dic_list())"
    },
    "r": {
     "delete_cmd_postfix": ") ",
     "delete_cmd_prefix": "rm(",
     "library": "var_list.r",
     "varRefreshCmd": "cat(var_dic_list()) "
    }
   },
   "types_to_exclude": [
    "module",
    "function",
    "builtin_function_or_method",
    "instance",
    "_Feature"
   ],
   "window_display": false
  },
  "vscode": {
   "interpreter": {
    "hash": "ee5692aa46b908cdb87b089c932ebd41fd6b0bfe450aa3279b123e6b4e36bc2a"
   }
  }
 },
 "nbformat": 4,
 "nbformat_minor": 4
}
