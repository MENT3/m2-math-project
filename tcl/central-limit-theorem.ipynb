{
 "cells": [
  {
   "cell_type": "markdown",
   "metadata": {},
   "source": [
    "# The Central Limit Theorem - A first approach"
   ]
  },
  {
   "cell_type": "markdown",
   "metadata": {},
   "source": [
    "## 📚  1) Introduction to the CLT"
   ]
  },
  {
   "cell_type": "markdown",
   "metadata": {},
   "source": [
    "🚀  **Two convergence theorems revolutionized the disciplines of probability and statistics:**\n",
    "- **`LLN`: the Law of Large Numbers**\n",
    "- **`CLT`: the Central Limit Theorem**\n",
    "\n",
    "🧑🏻‍🏫  What is the CLT ? According to [Wikipedia](https://en.wikipedia.org/wiki/Central_limit_theorem)\n",
    "\n",
    "> The CLT states that when independent random variables are summed up, their normalized sum tends towards a **`Gaussian distribution`**  even if the original variables themselves were not normally distributed.\n",
    "\n",
    "> The Gaussian distribution is also known as a **`Normal Distribution`** or a **`bell curve`**.\n",
    "\n",
    "\n",
    "<details>\n",
    "    <summary>Why is the CLT a key concept of probability theory?</summary>\n",
    "    \n",
    "👉   Because it implies that probabilistic and statistical methods that work for normal distributions can be applicable to many problems involving other types of distributions.\n",
    "    \n",
    "🤔   Not clear for you yet ? No problem, we will elaborate on this during the `Decision Science - Inferential Statistics` chapter\n",
    "    \n",
    "As we love to say at ***`Le Wagon`***, ***Trust the process!***\n",
    "    \n",
    "</details>"
   ]
  },
  {
   "cell_type": "markdown",
   "metadata": {},
   "source": [
    "🎯  Let's illustrate how to use the [Central Limit Theorem](https://en.wikipedia.org/wiki/Central_limit_theorem) in a dataset:\n",
    "\n",
    "* Given a population, let's consider a feature (example: size, weight, salary, etc...) for each individual.\n",
    "\n",
    "\n",
    "🚀  The important takeaway of these two theorems is that **whatever the shape of the distribution** of a given feature over the population **is**, **the distribution of the (sampled) mean<u>S</u> tends to be Gaussian**:\n",
    "* `the mean of the means` = $ \\mu$ (Law of Large Numbers)\n",
    "* `the standard deviation of the means` = $ \\frac{\\sigma}{\\sqrt{n}} $  (Central Limit Theorem)\n",
    "\n",
    "![](https://upload.wikimedia.org/wikipedia/commons/thumb/7/7b/IllustrationCentralTheorem.png/400px-IllustrationCentralTheorem.png)\n",
    "\n",
    "💡  We can wrap it up the following way:\n",
    "\n",
    "$$ \\large \\bar{X} \\approx_{n \\rightarrow \\infty} \\mathcal{N}(\\mu,\\frac{\\sigma}{\\sqrt{n}}) $$\n",
    "\n",
    "👩🏻‍🔬  Let's verify this experimentally!"
   ]
  },
  {
   "cell_type": "markdown",
   "metadata": {},
   "source": [
    "---"
   ]
  },
  {
   "cell_type": "markdown",
   "metadata": {},
   "source": [
    "## 🔢  2) The Dataset"
   ]
  },
  {
   "cell_type": "markdown",
   "metadata": {},
   "source": [
    "👉 In this challenge, we will use the `tips` dataset from the `seaborn` library to illustrate the Central Limit Theorem."
   ]
  },
  {
   "cell_type": "code",
   "execution_count": 238,
   "metadata": {},
   "outputs": [],
   "source": [
    "# --- Data Manipulation  ---\n",
    "#import numpy and pandas \n",
    "import numpy as np\n",
    "import pandas as pd\n",
    "\n",
    "# --- Data Visualization ---\n",
    "#import Seaborn and the module pyplot of matplotlib\n",
    "import seaborn as sns\n",
    "import matplotlib.pyplot as plt\n",
    "\n",
    "# --- Maths ---\n",
    "#import the library maths"
   ]
  },
  {
   "cell_type": "code",
   "execution_count": 239,
   "metadata": {},
   "outputs": [
    {
     "data": {
      "text/html": [
       "<div>\n",
       "<style scoped>\n",
       "    .dataframe tbody tr th:only-of-type {\n",
       "        vertical-align: middle;\n",
       "    }\n",
       "\n",
       "    .dataframe tbody tr th {\n",
       "        vertical-align: top;\n",
       "    }\n",
       "\n",
       "    .dataframe thead th {\n",
       "        text-align: right;\n",
       "    }\n",
       "</style>\n",
       "<table border=\"1\" class=\"dataframe\">\n",
       "  <thead>\n",
       "    <tr style=\"text-align: right;\">\n",
       "      <th></th>\n",
       "      <th>total_bill</th>\n",
       "      <th>tip</th>\n",
       "      <th>sex</th>\n",
       "      <th>smoker</th>\n",
       "      <th>day</th>\n",
       "      <th>time</th>\n",
       "      <th>size</th>\n",
       "    </tr>\n",
       "  </thead>\n",
       "  <tbody>\n",
       "    <tr>\n",
       "      <th>0</th>\n",
       "      <td>16.99</td>\n",
       "      <td>1.01</td>\n",
       "      <td>Female</td>\n",
       "      <td>No</td>\n",
       "      <td>Sun</td>\n",
       "      <td>Dinner</td>\n",
       "      <td>2</td>\n",
       "    </tr>\n",
       "    <tr>\n",
       "      <th>1</th>\n",
       "      <td>10.34</td>\n",
       "      <td>1.66</td>\n",
       "      <td>Male</td>\n",
       "      <td>No</td>\n",
       "      <td>Sun</td>\n",
       "      <td>Dinner</td>\n",
       "      <td>3</td>\n",
       "    </tr>\n",
       "    <tr>\n",
       "      <th>2</th>\n",
       "      <td>21.01</td>\n",
       "      <td>3.50</td>\n",
       "      <td>Male</td>\n",
       "      <td>No</td>\n",
       "      <td>Sun</td>\n",
       "      <td>Dinner</td>\n",
       "      <td>3</td>\n",
       "    </tr>\n",
       "    <tr>\n",
       "      <th>3</th>\n",
       "      <td>23.68</td>\n",
       "      <td>3.31</td>\n",
       "      <td>Male</td>\n",
       "      <td>No</td>\n",
       "      <td>Sun</td>\n",
       "      <td>Dinner</td>\n",
       "      <td>2</td>\n",
       "    </tr>\n",
       "    <tr>\n",
       "      <th>4</th>\n",
       "      <td>24.59</td>\n",
       "      <td>3.61</td>\n",
       "      <td>Female</td>\n",
       "      <td>No</td>\n",
       "      <td>Sun</td>\n",
       "      <td>Dinner</td>\n",
       "      <td>4</td>\n",
       "    </tr>\n",
       "    <tr>\n",
       "      <th>...</th>\n",
       "      <td>...</td>\n",
       "      <td>...</td>\n",
       "      <td>...</td>\n",
       "      <td>...</td>\n",
       "      <td>...</td>\n",
       "      <td>...</td>\n",
       "      <td>...</td>\n",
       "    </tr>\n",
       "    <tr>\n",
       "      <th>239</th>\n",
       "      <td>29.03</td>\n",
       "      <td>5.92</td>\n",
       "      <td>Male</td>\n",
       "      <td>No</td>\n",
       "      <td>Sat</td>\n",
       "      <td>Dinner</td>\n",
       "      <td>3</td>\n",
       "    </tr>\n",
       "    <tr>\n",
       "      <th>240</th>\n",
       "      <td>27.18</td>\n",
       "      <td>2.00</td>\n",
       "      <td>Female</td>\n",
       "      <td>Yes</td>\n",
       "      <td>Sat</td>\n",
       "      <td>Dinner</td>\n",
       "      <td>2</td>\n",
       "    </tr>\n",
       "    <tr>\n",
       "      <th>241</th>\n",
       "      <td>22.67</td>\n",
       "      <td>2.00</td>\n",
       "      <td>Male</td>\n",
       "      <td>Yes</td>\n",
       "      <td>Sat</td>\n",
       "      <td>Dinner</td>\n",
       "      <td>2</td>\n",
       "    </tr>\n",
       "    <tr>\n",
       "      <th>242</th>\n",
       "      <td>17.82</td>\n",
       "      <td>1.75</td>\n",
       "      <td>Male</td>\n",
       "      <td>No</td>\n",
       "      <td>Sat</td>\n",
       "      <td>Dinner</td>\n",
       "      <td>2</td>\n",
       "    </tr>\n",
       "    <tr>\n",
       "      <th>243</th>\n",
       "      <td>18.78</td>\n",
       "      <td>3.00</td>\n",
       "      <td>Female</td>\n",
       "      <td>No</td>\n",
       "      <td>Thur</td>\n",
       "      <td>Dinner</td>\n",
       "      <td>2</td>\n",
       "    </tr>\n",
       "  </tbody>\n",
       "</table>\n",
       "<p>244 rows × 7 columns</p>\n",
       "</div>"
      ],
      "text/plain": [
       "     total_bill   tip     sex smoker   day    time  size\n",
       "0         16.99  1.01  Female     No   Sun  Dinner     2\n",
       "1         10.34  1.66    Male     No   Sun  Dinner     3\n",
       "2         21.01  3.50    Male     No   Sun  Dinner     3\n",
       "3         23.68  3.31    Male     No   Sun  Dinner     2\n",
       "4         24.59  3.61  Female     No   Sun  Dinner     4\n",
       "..          ...   ...     ...    ...   ...     ...   ...\n",
       "239       29.03  5.92    Male     No   Sat  Dinner     3\n",
       "240       27.18  2.00  Female    Yes   Sat  Dinner     2\n",
       "241       22.67  2.00    Male    Yes   Sat  Dinner     2\n",
       "242       17.82  1.75    Male     No   Sat  Dinner     2\n",
       "243       18.78  3.00  Female     No  Thur  Dinner     2\n",
       "\n",
       "[244 rows x 7 columns]"
      ]
     },
     "execution_count": 239,
     "metadata": {},
     "output_type": "execute_result"
    }
   ],
   "source": [
    "# Download the data 'tips'of searborn and display tips\n",
    "df = sns.load_dataset(\"tips\")\n",
    "df"
   ]
  },
  {
   "cell_type": "markdown",
   "metadata": {},
   "source": [
    "### 🧐  2.1) Exploratory Data Analysis (EDA)"
   ]
  },
  {
   "cell_type": "markdown",
   "metadata": {},
   "source": [
    "❓ How many rows are available in the dataset ❓"
   ]
  },
  {
   "cell_type": "code",
   "execution_count": 240,
   "metadata": {
    "tags": [
     "challengify"
    ]
   },
   "outputs": [
    {
     "name": "stdout",
     "output_type": "stream",
     "text": [
      "Nombre de lignes : 244\n",
      "Nombre de colonnes : 7\n"
     ]
    }
   ],
   "source": [
    "n_rows, n_cols = df.shape\n",
    "print(\"Nombre de lignes :\", n_rows)\n",
    "print(\"Nombre de colonnes :\", n_cols)"
   ]
  },
  {
   "cell_type": "markdown",
   "metadata": {},
   "source": [
    "❓ Plot the distribution of the `tip` column 📊 (with 20 bins) ❓"
   ]
  },
  {
   "cell_type": "code",
   "execution_count": 241,
   "metadata": {
    "tags": [
     "challengify"
    ]
   },
   "outputs": [
    {
     "data": {
      "image/png": "[encoded data removed]",
      "text/plain": [
       "<Figure size 432x288 with 1 Axes>"
      ]
     },
     "metadata": {
      "needs_background": "light"
     },
     "output_type": "display_data"
    }
   ],
   "source": [
    "#YOUR CODE \n",
    "plt.hist(df[\"tip\"], bins=20)\n",
    "plt.show()"
   ]
  },
  {
   "cell_type": "markdown",
   "metadata": {},
   "source": [
    "❓ Question 1 ❓\n",
    "\n",
    "What are :\n",
    "* the ***average tip***\n",
    "* the ***standard deviation tip*** \n",
    "* the  [***skewness of the tips***](https://whatis.techtarget.com/definition/skewness)\n",
    "\n",
    "of the tips? \n",
    "\n",
    "Store them into three variables called respectively `tips_mu`, `tips_sigma` and `tips_skew`"
   ]
  },
  {
   "cell_type": "code",
   "execution_count": 242,
   "metadata": {
    "tags": [
     "challengify"
    ]
   },
   "outputs": [
    {
     "data": {
      "text/plain": [
       "(2.9982786885245902, 1.3836381890011826, 1.4654510370979401)"
      ]
     },
     "execution_count": 242,
     "metadata": {},
     "output_type": "execute_result"
    }
   ],
   "source": [
    "tips_mu = df[\"tip\"].mean()\n",
    "tips_sigma = df[\"tip\"].std()\n",
    "tips_skew = df[\"tip\"].skew()\n",
    "tips_mu, tips_sigma, tips_skew"
   ]
  },
  {
   "cell_type": "markdown",
   "metadata": {},
   "source": [
    "❓ Question 2 ❓\n",
    "\n",
    "What is the skewness of the tips: left, right, non-skewed? Store your answer in a string variable called `skewness`"
   ]
  },
  {
   "cell_type": "code",
   "execution_count": 243,
   "metadata": {
    "tags": [
     "challengify"
    ]
   },
   "outputs": [],
   "source": [
    "skewness = \"right\" "
   ]
  },
  {
   "cell_type": "code",
   "execution_count": 244,
   "metadata": {},
   "outputs": [
    {
     "data": {
      "text/plain": [
       "count    244.000000\n",
       "mean       2.998279\n",
       "std        1.383638\n",
       "min        1.000000\n",
       "25%        2.000000\n",
       "50%        2.900000\n",
       "75%        3.562500\n",
       "max       10.000000\n",
       "Name: tip, dtype: float64"
      ]
     },
     "execution_count": 244,
     "metadata": {},
     "output_type": "execute_result"
    }
   ],
   "source": [
    "df[\"tip\"].describe()"
   ]
  },
  {
   "cell_type": "markdown",
   "metadata": {},
   "source": [
    "<details>\n",
    "    <summary>Answer for the question related to the skewness:</summary>\n",
    "\n",
    "* the \"mode\" seems to be around 2 dollars `(we can't really talk about a mode for a continuous variable but just looking at the histogram with 20 bins, we can give an estimation)\n",
    "    \n",
    "* the \"mean\" is at 2.99 dollars\n",
    "    \n",
    "* the median is at 2.90 dollars\n",
    "    \n",
    "So here we have $ mode < median < mean $ which correspond to a `right skewness` if you go back to the `Statistics and Probability` slides 😉\n",
    "    \n",
    "    \n",
    "</details>"
   ]
  },
  {
   "cell_type": "markdown",
   "metadata": {},
   "source": [
    "### 🎲 2.2) Sampling mean"
   ]
  },
  {
   "cell_type": "markdown",
   "metadata": {},
   "source": [
    "❓ Pick randomly - and with replacement - 10 rows of the dataset, and compute the mean $\\bar{X}$ of that sample ❓\n",
    "\n",
    "👉 Run the cell a few times. Do you get the same result each time? Is this expected?"
   ]
  },
  {
   "cell_type": "code",
   "execution_count": 245,
   "metadata": {
    "tags": [
     "challengify"
    ]
   },
   "outputs": [
    {
     "data": {
      "text/plain": [
       "total_bill    22.394\n",
       "tip            3.762\n",
       "size           3.000\n",
       "dtype: float64"
      ]
     },
     "execution_count": 245,
     "metadata": {},
     "output_type": "execute_result"
    }
   ],
   "source": [
    "df.sample(10).mean(numeric_only=True)"
   ]
  },
  {
   "cell_type": "markdown",
   "metadata": {},
   "source": [
    "<div style=\"color:green\">No we don't get the same results each time and it's normal because we take random values</div>"
   ]
  },
  {
   "cell_type": "markdown",
   "metadata": {},
   "source": [
    "---"
   ]
  },
  {
   "cell_type": "markdown",
   "metadata": {},
   "source": [
    "## 🔥 3) Applying the CLT"
   ]
  },
  {
   "cell_type": "markdown",
   "metadata": {},
   "source": [
    "### 3.1) <u>Graphically</u>"
   ]
  },
  {
   "cell_type": "markdown",
   "metadata": {},
   "source": [
    "👉 Create a `means` list storing a list of means of $N$ samples of size $n$.\n",
    "\n",
    "Start with $n = 5$ and $N = 10$\n",
    "\n",
    "📊  In the same cell, **plot** the distribution of `means`. \n",
    "\n",
    "🧐 Let's play with the <u>*sample size n*</u> and the <u>*number of samples N</u>*:\n",
    "* Keep $n$ constant, increase $N$ and observe: display the distributions. What do you conclude?"
   ]
  },
  {
   "cell_type": "code",
   "execution_count": 246,
   "metadata": {},
   "outputs": [],
   "source": [
    "def clt(values, n, N):\n",
    "  assert type(values) == np.ndarray\n",
    "  return [np.mean([values[x] for x in np.random.choice(values.shape[0], n, replace=False)]) for _ in range(N)]"
   ]
  },
  {
   "cell_type": "code",
   "execution_count": 247,
   "metadata": {
    "tags": [
     "challengify"
    ]
   },
   "outputs": [
    {
     "data": {
      "image/png": "[encoded data removed]",
      "text/plain": [
       "<Figure size 432x288 with 1 Axes>"
      ]
     },
     "metadata": {
      "needs_background": "light"
     },
     "output_type": "display_data"
    }
   ],
   "source": [
    "n = 5\n",
    "N = 10\n",
    "means = clt(df[\"tip\"].to_numpy(), n, N)\n",
    "\n",
    "plt.hist(means)\n",
    "plt.show()"
   ]
  },
  {
   "cell_type": "code",
   "execution_count": 248,
   "metadata": {
    "tags": [
     "delete"
    ]
   },
   "outputs": [
    {
     "data": {
      "image/png": "[encoded data removed]",
      "text/plain": [
       "<Figure size 432x288 with 1 Axes>"
      ]
     },
     "metadata": {
      "needs_background": "light"
     },
     "output_type": "display_data"
    }
   ],
   "source": [
    "n = 5\n",
    "N = 2000\n",
    "\n",
    "means = clt(df[\"tip\"].to_numpy(), n, N)\n",
    "\n",
    "plt.hist(means, bins=20)\n",
    "plt.show()"
   ]
  },
  {
   "cell_type": "markdown",
   "metadata": {},
   "source": [
    "<details>\n",
    "    <summary>What is happening when <u><i>n is fixed</i></u> and <u><i>N increases:</i></u>?your answer</summary>\n",
    "\n"
   ]
  },
  {
   "cell_type": "markdown",
   "metadata": {},
   "source": [
    "<div style=\"color:green\">When we increase the N value (the draw count), a symmetrical bell curve starts to appear</div>"
   ]
  },
  {
   "cell_type": "markdown",
   "metadata": {},
   "source": [
    "* Now, keep $N$ constant, increase $n$ and observe. What do you conclude?"
   ]
  },
  {
   "cell_type": "code",
   "execution_count": 249,
   "metadata": {},
   "outputs": [
    {
     "data": {
      "image/png": "[encoded data removed]",
      "text/plain": [
       "<Figure size 432x288 with 1 Axes>"
      ]
     },
     "metadata": {
      "needs_background": "light"
     },
     "output_type": "display_data"
    }
   ],
   "source": [
    "n = 2 \n",
    "N = 100\n",
    "means = clt(df[\"tip\"].to_numpy(), n, N)\n",
    "plt.hist(means, bins=10)\n",
    "plt.show()"
   ]
  },
  {
   "cell_type": "code",
   "execution_count": 250,
   "metadata": {},
   "outputs": [
    {
     "data": {
      "image/png": "[encoded data removed]",
      "text/plain": [
       "<Figure size 432x288 with 1 Axes>"
      ]
     },
     "metadata": {
      "needs_background": "light"
     },
     "output_type": "display_data"
    }
   ],
   "source": [
    "n = 30 \n",
    "N = 100\n",
    "\n",
    "means = clt(df[\"tip\"].to_numpy(), n, N)\n",
    "\n",
    "plt.hist(means, bins=10)\n",
    "plt.show()"
   ]
  },
  {
   "cell_type": "markdown",
   "metadata": {},
   "source": [
    "<details>\n",
    "    <summary>What is happening when <u><i>N is fixed</i></u> and <u><i>n increases</i></u>? YOUR ANSWER</summary>\n",
    "\n",
    "\n",
    "</details>\n",
    "\n"
   ]
  },
  {
   "cell_type": "markdown",
   "metadata": {},
   "source": [
    "<div style=\"color:green\">When we increas the n value (the sample size), a skewness bell curve starts to appear</div>"
   ]
  },
  {
   "cell_type": "markdown",
   "metadata": {},
   "source": [
    "### 3.2) <u>Numerically</u>"
   ]
  },
  {
   "cell_type": "markdown",
   "metadata": {},
   "source": [
    "❓ Let's verify the Central Limit Theorem computationally ❓\n",
    "- Compare `tips_mu` with the mean of means\n",
    "- Compare `tips_sigma` with the standard deviation of the means, but don't forget the $\\sqrt n$ adjustment\n",
    "- Compute the `skewness` of the distribution of the means using `scipy.stats.skew` (should be close to 0)\n",
    "- Compute the `kurtosis` of the distribution of the means using `scipy.stats.kurtosis`(should be close to 0)\n"
   ]
  },
  {
   "cell_type": "code",
   "execution_count": 251,
   "metadata": {},
   "outputs": [
    {
     "data": {
      "text/plain": [
       "(2.9982786885245902, 3.0325166666666665)"
      ]
     },
     "execution_count": 251,
     "metadata": {},
     "output_type": "execute_result"
    }
   ],
   "source": [
    "#  Compare tips_mu with the mean of means\n",
    "tips_mu, np.mean(means)"
   ]
  },
  {
   "cell_type": "code",
   "execution_count": 252,
   "metadata": {},
   "outputs": [
    {
     "data": {
      "text/plain": [
       "(1.3836381890011826, 0.24025560173837088)"
      ]
     },
     "execution_count": 252,
     "metadata": {},
     "output_type": "execute_result"
    }
   ],
   "source": [
    "# Compare tips_sigma with the standard deviation of the means, but don't forget the n adjustment\n",
    "means_std = np.sqrt(np.sum((means - np.mean(means))**2) / N)\n",
    "assert means_std == np.std(means) # to verify our formula\n",
    "tips_sigma, means_std"
   ]
  },
  {
   "cell_type": "code",
   "execution_count": 253,
   "metadata": {},
   "outputs": [],
   "source": [
    "from scipy.stats import skew, kurtosis"
   ]
  },
  {
   "cell_type": "code",
   "execution_count": 254,
   "metadata": {},
   "outputs": [
    {
     "data": {
      "text/plain": [
       "(-0.05876829927720613, 'left')"
      ]
     },
     "execution_count": 254,
     "metadata": {},
     "output_type": "execute_result"
    }
   ],
   "source": [
    "# Compute the skewness of the distribution of the means using scipy.stats.skew (should be close to 0)\n",
    "skew(means), \"right\" if skew(means) > 0 else \"left\""
   ]
  },
  {
   "cell_type": "code",
   "execution_count": 255,
   "metadata": {},
   "outputs": [
    {
     "data": {
      "text/plain": [
       "-0.40413180778691293"
      ]
     },
     "execution_count": 255,
     "metadata": {},
     "output_type": "execute_result"
    }
   ],
   "source": [
    "# Compute the kurtosis of the distribution of the means using scipy.stats.kurtosis (should be close to 0)\n",
    "kurtosis(means)"
   ]
  },
  {
   "cell_type": "markdown",
   "metadata": {},
   "source": [
    "## 💪  4) Use case: Probabilities of accumulating large tips at the end of a work-day"
   ]
  },
  {
   "cell_type": "markdown",
   "metadata": {},
   "source": [
    "🤔 Let's pick 100 dinners from the dataset (sampling with replacement). What is the probability that the cumulated tips ends up being **greater than 350€**?\n"
   ]
  },
  {
   "cell_type": "markdown",
   "metadata": {},
   "source": [
    "1️⃣ Before we answer this question, start by familiarizing yourself with the [**`scipy.stats.norm.pdf`**](https://docs.scipy.org/doc/scipy/reference/generated/scipy.stats.norm.html) tool: \n",
    "\n",
    "❓ Can you plot a Normal Distribution pdf with a mean(=10) and standard deviation (=7)?"
   ]
  },
  {
   "cell_type": "code",
   "execution_count": 256,
   "metadata": {},
   "outputs": [],
   "source": [
    "from scipy.stats import norm\n",
    "\n",
    "hundred_dinners = df.sample(100)\n",
    "dat = hundred_dinners[\"tip\"]"
   ]
  },
  {
   "cell_type": "code",
   "execution_count": 257,
   "metadata": {},
   "outputs": [
    {
     "data": {
      "image/png": "[encoded data removed]",
      "text/plain": [
       "<Figure size 432x288 with 1 Axes>"
      ]
     },
     "metadata": {
      "needs_background": "light"
     },
     "output_type": "display_data"
    }
   ],
   "source": [
    "plt.hist(norm.pdf(dat, loc=10, scale=7))\n",
    "plt.show()"
   ]
  },
  {
   "cell_type": "markdown",
   "metadata": {},
   "source": [
    "🤗 `scipy.stats.norm.pdf` is a **convenient way to draw a Gaussian curve**.\n",
    "\n",
    "The **probability density function** (_a.k.a._ ***pdf***) of a Normal Distribution with parameters $ \\mu $ and $ \\sigma $ is defined by:\n",
    "\n",
    "$$ y = \\frac{1}{\\sigma \\sqrt{2 \\pi}} exp[-\\frac{1}{2} (\\frac{x - \\mu}{\\sigma})^2]$$\n",
    "\n",
    "😅 Without this function from Scipy, you would have to define a _Gaussian Probability Density Function_ by yourself to plot the Gaussian Curve."
   ]
  },
  {
   "cell_type": "code",
   "execution_count": 258,
   "metadata": {},
   "outputs": [],
   "source": [
    "def gauss(x, sigma, mu):\n",
    "  return 1/(sigma*np.sqrt(2*np.pi)) * np.exp(-1/2 * ((x-mu) / sigma)**2)"
   ]
  },
  {
   "cell_type": "code",
   "execution_count": 259,
   "metadata": {},
   "outputs": [
    {
     "data": {
      "image/png": "[encoded data removed]",
      "text/plain": [
       "<Figure size 864x576 with 2 Axes>"
      ]
     },
     "metadata": {
      "needs_background": "light"
     },
     "output_type": "display_data"
    }
   ],
   "source": [
    "mu_example = 10\n",
    "sigma_example = 7 \n",
    "\n",
    "# start a figure\n",
    "fig, axs = plt.subplots(2, figsize=(12, 8))\n",
    "# First subplot :\n",
    "# Plotting a Gaussian distribution using Scipy Stats with the color blue\n",
    "axs[0].hist(norm.pdf(dat, loc=mu_example, scale=sigma_example), color=\"b\")\n",
    "# Second subplot : \n",
    "# Plotting a Gaussian distribution using our own Python function with the color pink\n",
    "axs[1].hist(gauss(dat, mu=mu_example, sigma=sigma_example), color=\"pink\")\n",
    "plt.show()"
   ]
  },
  {
   "cell_type": "markdown",
   "metadata": {},
   "source": [
    "2️⃣ Back to our exercise:\n",
    "\n",
    "<u>The real numbers:</u>\n",
    "\n",
    "From our Exploratory Data Analysis, we have:\n",
    "- 244 tips (global population)\n",
    "- $\\mu=3€$\n",
    "- $\\sigma=1.38€$\n",
    "\n",
    "<u>Sampling once</u>\n",
    "\n",
    "- Imagine that we draw a sample of size 100 out of the global population of dinners\n",
    "- We observe the sum of these 100 sample tips is 350€, so the average tip $\\mu_X$ is 3.5€ for this sample\n",
    "- **The operation of drawing a sample is random, therefore the average of these sampled data will also be random**\n",
    "\n",
    "<u>Distribution of samples</u>\n",
    "\n",
    "❓ Can you guess what would be the **shape** of the **<u>distribution of the means</u>** of these samples **if we were to <u>draw many other samples</u>** of the same size like this one  \n",
    "\n",
    "❓ In other words, how do you imagine:\n",
    "- its shape?\n",
    "- its mean? (store into a variable called **`mu_expected`**)\n",
    "- its standard deviation? (store it into a variable called **`sigma_expected`**)"
   ]
  },
  {
   "cell_type": "markdown",
   "metadata": {},
   "source": [
    "<img src='https://wagon-public-datasets.s3.amazonaws.com/data-science-images/math/ctl.png' width=1000>"
   ]
  },
  {
   "cell_type": "markdown",
   "metadata": {},
   "source": [
    "<details>\n",
    "    <summary>🧑🏻‍🏫 YOUR Answer:</summary>\n",
    "\n",
    "\n",
    "</details>"
   ]
  },
  {
   "cell_type": "markdown",
   "metadata": {},
   "source": [
    "❓ Plot this expected distribution\n",
    "- On top of it, add the datapoint representing a cumulated tip of 350€ over 100 dinners."
   ]
  },
  {
   "cell_type": "code",
   "execution_count": 260,
   "metadata": {
    "tags": [
     "delete"
    ]
   },
   "outputs": [
    {
     "data": {
      "text/plain": [
       "count    244.000000\n",
       "mean       2.998279\n",
       "std        1.383638\n",
       "min        1.000000\n",
       "25%        2.000000\n",
       "50%        2.900000\n",
       "75%        3.562500\n",
       "max       10.000000\n",
       "Name: tip, dtype: float64"
      ]
     },
     "execution_count": 260,
     "metadata": {},
     "output_type": "execute_result"
    }
   ],
   "source": [
    "df.tip.describe()"
   ]
  },
  {
   "cell_type": "code",
   "execution_count": 266,
   "metadata": {
    "tags": [
     "challengify"
    ]
   },
   "outputs": [
    {
     "data": {
      "text/plain": [
       "<matplotlib.collections.PathCollection at 0x7f028e017850>"
      ]
     },
     "execution_count": 266,
     "metadata": {},
     "output_type": "execute_result"
    },
    {
     "data": {
      "image/png": "[encoded data removed]",
      "text/plain": [
       "<Figure size 432x288 with 1 Axes>"
      ]
     },
     "metadata": {
      "needs_background": "light"
     },
     "output_type": "display_data"
    }
   ],
   "source": [
    "# Expected parameters of the Gaussian variable from the CLT\n",
    "g_mean = 3.5\n",
    "g_std = 1.38\n",
    "\n",
    "# Instantiating this Gaussian Variable\n",
    "y = [gauss(x, g_std, g_mean) for x in dat]\n",
    "\n",
    "# Plotting the Gaussian Curve\n",
    "plt.scatter(dat, y)\n",
    "\n",
    "# Additing the targeted point\n",
    "# plt.scatter(3.5, gauss(3.5, g_std, g_mean), c=\"r\")"
   ]
  },
  {
   "cell_type": "markdown",
   "metadata": {},
   "source": [
    "👉 For this restaurant, we clearly see that 350 euros of cumulated tips over 100 dinners (average tip of 3.50 euros) seems to be is virtually impossible (this probability of this event would be close to zero).\n",
    "\n",
    "🍔 It is probably a cheap restaurant serving burgers and fries until 4 AM...\n",
    "\n",
    "We are almost at the end of the challenge!\n",
    "\n",
    "🔢 Let's denote $ \\bar{X} $ the average tip over 100 dinners \n",
    "\n",
    "* ❓ Compute numerically $ \\mathbb{P} ( \\bar{X} > 3.50 ) $ and store it in `proba_350` variable ❓\n",
    "* 📚 You will need the **`cumulative distribution function (cdf)`** from [`scipy.stats.norm`](https://docs.scipy.org/doc/scipy/reference/generated/scipy.stats.norm.html)"
   ]
  },
  {
   "cell_type": "code",
   "execution_count": null,
   "metadata": {
    "tags": [
     "challengify"
    ]
   },
   "outputs": [],
   "source": [
    "#YOUR CODE "
   ]
  },
  {
   "cell_type": "code",
   "execution_count": null,
   "metadata": {
    "tags": [
     "delete"
    ]
   },
   "outputs": [],
   "source": [
    "#print(f\"Probability to observe total tips greater than 350€ = {round(proba_350*100,2)} %\")"
   ]
  },
  {
   "cell_type": "markdown",
   "metadata": {},
   "source": [
    "❗️ If we had observed such an amount, we could have deduced with a 99.99% confidence level that the 100 dinners selected were ***not randomly sampled*** from the population of dinners."
   ]
  },
  {
   "cell_type": "markdown",
   "metadata": {},
   "source": [
    "## ⭐️  5) The `z-score`"
   ]
  },
  {
   "cell_type": "markdown",
   "metadata": {},
   "source": [
    "<u>**Alternative computation using z-score**</u>\n",
    "\n",
    "🤔 Imagine you didn't have access to the `SciPy` library (or even to a computer) to compute the probability density function of a custom-made Gaussian distribution numerically. Which workaround could we use to this end?  \n",
    "\n",
    "💡 Instead of computing a Gaussian distribution with specific mean and sigma, a much more elegant way is to rephrase our problem to use the **`Standard Normal distribution`** $\\mathcal N(0,1)$, from which we could read usual values in a **`Standard Statistical table`** 👇\n",
    "\n",
    "$$ X \\sim \\mathcal N(\\mu,\\sigma) \\leftrightarrow Y =  \\frac{X - \\mu}{\\sigma} \\sim \\mathcal N(0,1) $$"
   ]
  },
  {
   "cell_type": "code",
   "execution_count": null,
   "metadata": {},
   "outputs": [],
   "source": [
    "#YOUR CODE "
   ]
  },
  {
   "cell_type": "markdown",
   "metadata": {},
   "source": [
    "❓ Use the standard table above to find the probability we are looking for."
   ]
  },
  {
   "cell_type": "markdown",
   "metadata": {
    "tags": [
     "challengify"
    ]
   },
   "source": [
    "> A `z-score` of $3.62$ corresponds to an area under the curve of the Normal distribution $ \\mathcal{N}(0,1)$ with a surface equal to $0.9998$\n",
    "\n",
    "> Hence, the probability of having the sum of tips greater than 350 euros is equal to  $0.0002$"
   ]
  },
  {
   "cell_type": "markdown",
   "metadata": {},
   "source": [
    "❓ Double-check this probability with with `scipy.stats.norm` as done previously. Store it into a `proba_z` variable."
   ]
  },
  {
   "cell_type": "code",
   "execution_count": null,
   "metadata": {},
   "outputs": [],
   "source": [
    "proba_z = None"
   ]
  },
  {
   "cell_type": "code",
   "execution_count": null,
   "metadata": {
    "tags": [
     "delete"
    ]
   },
   "outputs": [],
   "source": [
    "from scipy import stats\n",
    "\n",
    "# --- Drawing a Standard Gaussian Curve with mean 0 and std 1\n",
    "#YOUR CODE \n",
    "\n",
    "# --- Adding the z-score of the observations on top of it\n",
    "#YOUR CODE\n",
    "\n",
    "# --- Computing the cdf of z\n",
    "#YOUR CODE\n",
    "\n",
    "# --- Computing and displau the proba that the standard gaussian is above the z-score\n",
    "#YOUR CODE"
   ]
  },
  {
   "cell_type": "markdown",
   "metadata": {},
   "source": [
    "🎉 Congratulations if you managed to go through this challenge!\n",
    "\n",
    "\n",
    "\n",
    "🥇 Don't forget to `save`your notebook!"
   ]
  },
  {
   "cell_type": "code",
   "execution_count": null,
   "metadata": {},
   "outputs": [],
   "source": []
  }
 ],
 "metadata": {
  "kernelspec": {
   "display_name": "Python 3.8.13 ('base')",
   "language": "python",
   "name": "python3"
  },
  "language_info": {
   "codemirror_mode": {
    "name": "ipython",
    "version": 3
   },
   "file_extension": ".py",
   "mimetype": "text/x-python",
   "name": "python",
   "nbconvert_exporter": "python",
   "pygments_lexer": "ipython3",
   "version": "3.8.13"
  },
  "vscode": {
   "interpreter": {
    "hash": "d7420910768efa0f57f35413c7609affc5431b7ba06113c2127b152c7e7ad07e"
   }
  }
 },
 "nbformat": 4,
 "nbformat_minor": 4
}
