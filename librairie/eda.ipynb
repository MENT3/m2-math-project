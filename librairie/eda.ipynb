{
 "cells": [
  {
   "cell_type": "markdown",
   "metadata": {},
   "source": [
    "TODO\n",
    "- Graphs labels / titles\n",
    "- Graphs colors"
   ]
  },
  {
   "cell_type": "code",
   "execution_count": 64,
   "metadata": {},
   "outputs": [],
   "source": [
    "import numpy as np\n",
    "import pandas as pd\n",
    "import seaborn as sns\n",
    "import matplotlib.pyplot as plt"
   ]
  },
  {
   "cell_type": "code",
   "execution_count": 65,
   "metadata": {},
   "outputs": [
    {
     "name": "stdout",
     "output_type": "stream",
     "text": [
      "The autoreload extension is already loaded. To reload it, use:\n",
      "  %reload_ext autoreload\n"
     ]
    }
   ],
   "source": [
    "%load_ext autoreload\n",
    "%autoreload 2\n",
    "\n",
    "from utils import scatter_with_outliers, corr_mask, gini, lorenz_curve"
   ]
  },
  {
   "cell_type": "markdown",
   "metadata": {},
   "source": [
    "# Client"
   ]
  },
  {
   "cell_type": "code",
   "execution_count": 66,
   "metadata": {},
   "outputs": [
    {
     "data": {
      "text/html": [
       "<div>\n",
       "<style scoped>\n",
       "    .dataframe tbody tr th:only-of-type {\n",
       "        vertical-align: middle;\n",
       "    }\n",
       "\n",
       "    .dataframe tbody tr th {\n",
       "        vertical-align: top;\n",
       "    }\n",
       "\n",
       "    .dataframe thead th {\n",
       "        text-align: right;\n",
       "    }\n",
       "</style>\n",
       "<table border=\"1\" class=\"dataframe\">\n",
       "  <thead>\n",
       "    <tr style=\"text-align: right;\">\n",
       "      <th></th>\n",
       "      <th>client_id</th>\n",
       "      <th>sex</th>\n",
       "      <th>birth</th>\n",
       "    </tr>\n",
       "  </thead>\n",
       "  <tbody>\n",
       "    <tr>\n",
       "      <th>0</th>\n",
       "      <td>c_4410</td>\n",
       "      <td>f</td>\n",
       "      <td>1967</td>\n",
       "    </tr>\n",
       "    <tr>\n",
       "      <th>1</th>\n",
       "      <td>c_7839</td>\n",
       "      <td>f</td>\n",
       "      <td>1975</td>\n",
       "    </tr>\n",
       "    <tr>\n",
       "      <th>2</th>\n",
       "      <td>c_1699</td>\n",
       "      <td>f</td>\n",
       "      <td>1984</td>\n",
       "    </tr>\n",
       "    <tr>\n",
       "      <th>3</th>\n",
       "      <td>c_5961</td>\n",
       "      <td>f</td>\n",
       "      <td>1962</td>\n",
       "    </tr>\n",
       "    <tr>\n",
       "      <th>4</th>\n",
       "      <td>c_5320</td>\n",
       "      <td>m</td>\n",
       "      <td>1943</td>\n",
       "    </tr>\n",
       "  </tbody>\n",
       "</table>\n",
       "</div>"
      ],
      "text/plain": [
       "  client_id sex  birth\n",
       "0    c_4410   f   1967\n",
       "1    c_7839   f   1975\n",
       "2    c_1699   f   1984\n",
       "3    c_5961   f   1962\n",
       "4    c_5320   m   1943"
      ]
     },
     "execution_count": 66,
     "metadata": {},
     "output_type": "execute_result"
    }
   ],
   "source": [
    "clients = pd.read_csv(\"clients.csv\")\n",
    "clients.head()"
   ]
  },
  {
   "cell_type": "markdown",
   "metadata": {},
   "source": [
    "# Data type verifications"
   ]
  },
  {
   "cell_type": "code",
   "execution_count": 67,
   "metadata": {},
   "outputs": [
    {
     "data": {
      "text/plain": [
       "0"
      ]
     },
     "execution_count": 67,
     "metadata": {},
     "output_type": "execute_result"
    }
   ],
   "source": [
    "# duplicates\n",
    "clients.duplicated().sum()"
   ]
  },
  {
   "cell_type": "code",
   "execution_count": 68,
   "metadata": {},
   "outputs": [
    {
     "data": {
      "text/plain": [
       "0"
      ]
     },
     "execution_count": 68,
     "metadata": {},
     "output_type": "execute_result"
    }
   ],
   "source": [
    "# check if client_id is a primary key (SQL)\n",
    "clients[\"client_id\"].duplicated().sum()"
   ]
  },
  {
   "cell_type": "markdown",
   "metadata": {},
   "source": [
    "There are no duplicate values and the \"client_id\" is a primary key because it has no duplicates / missing values. The clients are uniques"
   ]
  },
  {
   "cell_type": "code",
   "execution_count": 69,
   "metadata": {},
   "outputs": [
    {
     "data": {
      "text/html": [
       "<div>\n",
       "<style scoped>\n",
       "    .dataframe tbody tr th:only-of-type {\n",
       "        vertical-align: middle;\n",
       "    }\n",
       "\n",
       "    .dataframe tbody tr th {\n",
       "        vertical-align: top;\n",
       "    }\n",
       "\n",
       "    .dataframe thead th {\n",
       "        text-align: right;\n",
       "    }\n",
       "</style>\n",
       "<table border=\"1\" class=\"dataframe\">\n",
       "  <thead>\n",
       "    <tr style=\"text-align: right;\">\n",
       "      <th></th>\n",
       "      <th>client_id</th>\n",
       "      <th>sex</th>\n",
       "      <th>birth</th>\n",
       "    </tr>\n",
       "  </thead>\n",
       "  <tbody>\n",
       "    <tr>\n",
       "      <th>count</th>\n",
       "      <td>8623</td>\n",
       "      <td>8623</td>\n",
       "      <td>8623.000000</td>\n",
       "    </tr>\n",
       "    <tr>\n",
       "      <th>unique</th>\n",
       "      <td>8623</td>\n",
       "      <td>2</td>\n",
       "      <td>NaN</td>\n",
       "    </tr>\n",
       "    <tr>\n",
       "      <th>top</th>\n",
       "      <td>c_4410</td>\n",
       "      <td>f</td>\n",
       "      <td>NaN</td>\n",
       "    </tr>\n",
       "    <tr>\n",
       "      <th>freq</th>\n",
       "      <td>1</td>\n",
       "      <td>4491</td>\n",
       "      <td>NaN</td>\n",
       "    </tr>\n",
       "    <tr>\n",
       "      <th>mean</th>\n",
       "      <td>NaN</td>\n",
       "      <td>NaN</td>\n",
       "      <td>1978.280877</td>\n",
       "    </tr>\n",
       "    <tr>\n",
       "      <th>std</th>\n",
       "      <td>NaN</td>\n",
       "      <td>NaN</td>\n",
       "      <td>16.919535</td>\n",
       "    </tr>\n",
       "    <tr>\n",
       "      <th>min</th>\n",
       "      <td>NaN</td>\n",
       "      <td>NaN</td>\n",
       "      <td>1929.000000</td>\n",
       "    </tr>\n",
       "    <tr>\n",
       "      <th>25%</th>\n",
       "      <td>NaN</td>\n",
       "      <td>NaN</td>\n",
       "      <td>1966.000000</td>\n",
       "    </tr>\n",
       "    <tr>\n",
       "      <th>50%</th>\n",
       "      <td>NaN</td>\n",
       "      <td>NaN</td>\n",
       "      <td>1979.000000</td>\n",
       "    </tr>\n",
       "    <tr>\n",
       "      <th>75%</th>\n",
       "      <td>NaN</td>\n",
       "      <td>NaN</td>\n",
       "      <td>1992.000000</td>\n",
       "    </tr>\n",
       "    <tr>\n",
       "      <th>max</th>\n",
       "      <td>NaN</td>\n",
       "      <td>NaN</td>\n",
       "      <td>2004.000000</td>\n",
       "    </tr>\n",
       "  </tbody>\n",
       "</table>\n",
       "</div>"
      ],
      "text/plain": [
       "       client_id   sex        birth\n",
       "count       8623  8623  8623.000000\n",
       "unique      8623     2          NaN\n",
       "top       c_4410     f          NaN\n",
       "freq           1  4491          NaN\n",
       "mean         NaN   NaN  1978.280877\n",
       "std          NaN   NaN    16.919535\n",
       "min          NaN   NaN  1929.000000\n",
       "25%          NaN   NaN  1966.000000\n",
       "50%          NaN   NaN  1979.000000\n",
       "75%          NaN   NaN  1992.000000\n",
       "max          NaN   NaN  2004.000000"
      ]
     },
     "execution_count": 69,
     "metadata": {},
     "output_type": "execute_result"
    }
   ],
   "source": [
    "clients.describe(include=\"all\")"
   ]
  },
  {
   "cell_type": "markdown",
   "metadata": {},
   "source": [
    "The \"sex\" variable seems to be a qualitative binary variable, let's check :"
   ]
  },
  {
   "cell_type": "code",
   "execution_count": 70,
   "metadata": {},
   "outputs": [
    {
     "data": {
      "text/plain": [
       "array(['f', 'm'], dtype=object)"
      ]
     },
     "execution_count": 70,
     "metadata": {},
     "output_type": "execute_result"
    }
   ],
   "source": [
    "clients[\"sex\"].unique()"
   ]
  },
  {
   "cell_type": "markdown",
   "metadata": {},
   "source": [
    "The \"birth\" variable seem to be a temporal variable, let's convert it : "
   ]
  },
  {
   "cell_type": "code",
   "execution_count": 71,
   "metadata": {},
   "outputs": [],
   "source": [
    "clients[\"birth\"] = pd.to_datetime(clients[\"birth\"], format=\"%Y\")"
   ]
  },
  {
   "cell_type": "markdown",
   "metadata": {},
   "source": [
    "# Product"
   ]
  },
  {
   "cell_type": "code",
   "execution_count": 72,
   "metadata": {},
   "outputs": [
    {
     "data": {
      "text/html": [
       "<div>\n",
       "<style scoped>\n",
       "    .dataframe tbody tr th:only-of-type {\n",
       "        vertical-align: middle;\n",
       "    }\n",
       "\n",
       "    .dataframe tbody tr th {\n",
       "        vertical-align: top;\n",
       "    }\n",
       "\n",
       "    .dataframe thead th {\n",
       "        text-align: right;\n",
       "    }\n",
       "</style>\n",
       "<table border=\"1\" class=\"dataframe\">\n",
       "  <thead>\n",
       "    <tr style=\"text-align: right;\">\n",
       "      <th></th>\n",
       "      <th>id_prod</th>\n",
       "      <th>price</th>\n",
       "      <th>categ</th>\n",
       "    </tr>\n",
       "  </thead>\n",
       "  <tbody>\n",
       "    <tr>\n",
       "      <th>0</th>\n",
       "      <td>0_1421</td>\n",
       "      <td>19.99</td>\n",
       "      <td>0</td>\n",
       "    </tr>\n",
       "    <tr>\n",
       "      <th>1</th>\n",
       "      <td>0_1368</td>\n",
       "      <td>5.13</td>\n",
       "      <td>0</td>\n",
       "    </tr>\n",
       "    <tr>\n",
       "      <th>2</th>\n",
       "      <td>0_731</td>\n",
       "      <td>17.99</td>\n",
       "      <td>0</td>\n",
       "    </tr>\n",
       "    <tr>\n",
       "      <th>3</th>\n",
       "      <td>1_587</td>\n",
       "      <td>4.99</td>\n",
       "      <td>1</td>\n",
       "    </tr>\n",
       "    <tr>\n",
       "      <th>4</th>\n",
       "      <td>0_1507</td>\n",
       "      <td>3.99</td>\n",
       "      <td>0</td>\n",
       "    </tr>\n",
       "  </tbody>\n",
       "</table>\n",
       "</div>"
      ],
      "text/plain": [
       "  id_prod  price  categ\n",
       "0  0_1421  19.99      0\n",
       "1  0_1368   5.13      0\n",
       "2   0_731  17.99      0\n",
       "3   1_587   4.99      1\n",
       "4  0_1507   3.99      0"
      ]
     },
     "execution_count": 72,
     "metadata": {},
     "output_type": "execute_result"
    }
   ],
   "source": [
    "products = pd.read_csv(\"produits.csv\")\n",
    "products.head()"
   ]
  },
  {
   "cell_type": "markdown",
   "metadata": {},
   "source": [
    "# Data type verifications"
   ]
  },
  {
   "cell_type": "code",
   "execution_count": 73,
   "metadata": {},
   "outputs": [
    {
     "data": {
      "text/plain": [
       "0"
      ]
     },
     "execution_count": 73,
     "metadata": {},
     "output_type": "execute_result"
    }
   ],
   "source": [
    "# duplicated verification\n",
    "products.duplicated().sum()"
   ]
  },
  {
   "cell_type": "code",
   "execution_count": 74,
   "metadata": {},
   "outputs": [
    {
     "data": {
      "text/plain": [
       "0"
      ]
     },
     "execution_count": 74,
     "metadata": {},
     "output_type": "execute_result"
    }
   ],
   "source": [
    "# check if \"id_prod\" is a primary key\n",
    "products[\"id_prod\"].duplicated().sum()"
   ]
  },
  {
   "cell_type": "markdown",
   "metadata": {},
   "source": [
    "There are no duplicate values and the \"product_id\" is a primary key because it has no duplicates / missing values. The products are uniques"
   ]
  },
  {
   "cell_type": "code",
   "execution_count": 75,
   "metadata": {},
   "outputs": [
    {
     "data": {
      "text/html": [
       "<div>\n",
       "<style scoped>\n",
       "    .dataframe tbody tr th:only-of-type {\n",
       "        vertical-align: middle;\n",
       "    }\n",
       "\n",
       "    .dataframe tbody tr th {\n",
       "        vertical-align: top;\n",
       "    }\n",
       "\n",
       "    .dataframe thead th {\n",
       "        text-align: right;\n",
       "    }\n",
       "</style>\n",
       "<table border=\"1\" class=\"dataframe\">\n",
       "  <thead>\n",
       "    <tr style=\"text-align: right;\">\n",
       "      <th></th>\n",
       "      <th>id_prod</th>\n",
       "      <th>price</th>\n",
       "      <th>categ</th>\n",
       "    </tr>\n",
       "  </thead>\n",
       "  <tbody>\n",
       "    <tr>\n",
       "      <th>count</th>\n",
       "      <td>3287</td>\n",
       "      <td>3287.000000</td>\n",
       "      <td>3287.000000</td>\n",
       "    </tr>\n",
       "    <tr>\n",
       "      <th>unique</th>\n",
       "      <td>3287</td>\n",
       "      <td>NaN</td>\n",
       "      <td>NaN</td>\n",
       "    </tr>\n",
       "    <tr>\n",
       "      <th>top</th>\n",
       "      <td>0_1421</td>\n",
       "      <td>NaN</td>\n",
       "      <td>NaN</td>\n",
       "    </tr>\n",
       "    <tr>\n",
       "      <th>freq</th>\n",
       "      <td>1</td>\n",
       "      <td>NaN</td>\n",
       "      <td>NaN</td>\n",
       "    </tr>\n",
       "    <tr>\n",
       "      <th>mean</th>\n",
       "      <td>NaN</td>\n",
       "      <td>21.856641</td>\n",
       "      <td>0.370246</td>\n",
       "    </tr>\n",
       "    <tr>\n",
       "      <th>std</th>\n",
       "      <td>NaN</td>\n",
       "      <td>29.847908</td>\n",
       "      <td>0.615387</td>\n",
       "    </tr>\n",
       "    <tr>\n",
       "      <th>min</th>\n",
       "      <td>NaN</td>\n",
       "      <td>-1.000000</td>\n",
       "      <td>0.000000</td>\n",
       "    </tr>\n",
       "    <tr>\n",
       "      <th>25%</th>\n",
       "      <td>NaN</td>\n",
       "      <td>6.990000</td>\n",
       "      <td>0.000000</td>\n",
       "    </tr>\n",
       "    <tr>\n",
       "      <th>50%</th>\n",
       "      <td>NaN</td>\n",
       "      <td>13.060000</td>\n",
       "      <td>0.000000</td>\n",
       "    </tr>\n",
       "    <tr>\n",
       "      <th>75%</th>\n",
       "      <td>NaN</td>\n",
       "      <td>22.990000</td>\n",
       "      <td>1.000000</td>\n",
       "    </tr>\n",
       "    <tr>\n",
       "      <th>max</th>\n",
       "      <td>NaN</td>\n",
       "      <td>300.000000</td>\n",
       "      <td>2.000000</td>\n",
       "    </tr>\n",
       "  </tbody>\n",
       "</table>\n",
       "</div>"
      ],
      "text/plain": [
       "       id_prod        price        categ\n",
       "count     3287  3287.000000  3287.000000\n",
       "unique    3287          NaN          NaN\n",
       "top     0_1421          NaN          NaN\n",
       "freq         1          NaN          NaN\n",
       "mean       NaN    21.856641     0.370246\n",
       "std        NaN    29.847908     0.615387\n",
       "min        NaN    -1.000000     0.000000\n",
       "25%        NaN     6.990000     0.000000\n",
       "50%        NaN    13.060000     0.000000\n",
       "75%        NaN    22.990000     1.000000\n",
       "max        NaN   300.000000     2.000000"
      ]
     },
     "execution_count": 75,
     "metadata": {},
     "output_type": "execute_result"
    }
   ],
   "source": [
    "products.describe(include=\"all\")"
   ]
  },
  {
   "cell_type": "markdown",
   "metadata": {},
   "source": [
    "The \"price\" variable has a value range of -1 to 300 (min / max) but -1 is not possible for a price. We will have to correct this when we correct the outliers"
   ]
  },
  {
   "cell_type": "markdown",
   "metadata": {},
   "source": [
    "The \"categ\" variable looks like a qualitative variable, let's check it :"
   ]
  },
  {
   "cell_type": "code",
   "execution_count": 76,
   "metadata": {},
   "outputs": [
    {
     "data": {
      "text/plain": [
       "array([0, 1, 2])"
      ]
     },
     "execution_count": 76,
     "metadata": {},
     "output_type": "execute_result"
    }
   ],
   "source": [
    "products[\"categ\"].unique()"
   ]
  },
  {
   "cell_type": "markdown",
   "metadata": {},
   "source": [
    "The \"categ\" variable is a qualitative variable and we think it  is a nominal variable"
   ]
  },
  {
   "cell_type": "markdown",
   "metadata": {},
   "source": [
    "# Sales"
   ]
  },
  {
   "cell_type": "code",
   "execution_count": 77,
   "metadata": {},
   "outputs": [
    {
     "data": {
      "text/html": [
       "<div>\n",
       "<style scoped>\n",
       "    .dataframe tbody tr th:only-of-type {\n",
       "        vertical-align: middle;\n",
       "    }\n",
       "\n",
       "    .dataframe tbody tr th {\n",
       "        vertical-align: top;\n",
       "    }\n",
       "\n",
       "    .dataframe thead th {\n",
       "        text-align: right;\n",
       "    }\n",
       "</style>\n",
       "<table border=\"1\" class=\"dataframe\">\n",
       "  <thead>\n",
       "    <tr style=\"text-align: right;\">\n",
       "      <th></th>\n",
       "      <th>id_prod</th>\n",
       "      <th>date</th>\n",
       "      <th>session_id</th>\n",
       "      <th>client_id</th>\n",
       "    </tr>\n",
       "  </thead>\n",
       "  <tbody>\n",
       "    <tr>\n",
       "      <th>0</th>\n",
       "      <td>0_1483</td>\n",
       "      <td>2021-04-10 18:37:28.723910</td>\n",
       "      <td>s_18746</td>\n",
       "      <td>c_4450</td>\n",
       "    </tr>\n",
       "    <tr>\n",
       "      <th>1</th>\n",
       "      <td>2_226</td>\n",
       "      <td>2022-02-03 01:55:53.276402</td>\n",
       "      <td>s_159142</td>\n",
       "      <td>c_277</td>\n",
       "    </tr>\n",
       "    <tr>\n",
       "      <th>2</th>\n",
       "      <td>1_374</td>\n",
       "      <td>2021-09-23 15:13:46.938559</td>\n",
       "      <td>s_94290</td>\n",
       "      <td>c_4270</td>\n",
       "    </tr>\n",
       "    <tr>\n",
       "      <th>3</th>\n",
       "      <td>0_2186</td>\n",
       "      <td>2021-10-17 03:27:18.783634</td>\n",
       "      <td>s_105936</td>\n",
       "      <td>c_4597</td>\n",
       "    </tr>\n",
       "    <tr>\n",
       "      <th>4</th>\n",
       "      <td>0_1351</td>\n",
       "      <td>2021-07-17 20:34:25.800563</td>\n",
       "      <td>s_63642</td>\n",
       "      <td>c_1242</td>\n",
       "    </tr>\n",
       "  </tbody>\n",
       "</table>\n",
       "</div>"
      ],
      "text/plain": [
       "  id_prod                        date session_id client_id\n",
       "0  0_1483  2021-04-10 18:37:28.723910    s_18746    c_4450\n",
       "1   2_226  2022-02-03 01:55:53.276402   s_159142     c_277\n",
       "2   1_374  2021-09-23 15:13:46.938559    s_94290    c_4270\n",
       "3  0_2186  2021-10-17 03:27:18.783634   s_105936    c_4597\n",
       "4  0_1351  2021-07-17 20:34:25.800563    s_63642    c_1242"
      ]
     },
     "execution_count": 77,
     "metadata": {},
     "output_type": "execute_result"
    }
   ],
   "source": [
    "sales = pd.read_csv(\"ventes.csv\")\n",
    "sales.head()"
   ]
  },
  {
   "cell_type": "markdown",
   "metadata": {},
   "source": [
    "# Data type verification"
   ]
  },
  {
   "cell_type": "code",
   "execution_count": 78,
   "metadata": {},
   "outputs": [
    {
     "data": {
      "text/plain": [
       "126"
      ]
     },
     "execution_count": 78,
     "metadata": {},
     "output_type": "execute_result"
    }
   ],
   "source": [
    "# duplicated verification\n",
    "sales.duplicated().sum()"
   ]
  },
  {
   "cell_type": "code",
   "execution_count": 79,
   "metadata": {},
   "outputs": [
    {
     "name": "stdout",
     "output_type": "stream",
     "text": [
      "Number of sales after drop duplicates: 336890\n"
     ]
    }
   ],
   "source": [
    "# drop duplicates\n",
    "sales = sales.drop_duplicates()\n",
    "print(f\"Number of sales after drop duplicates: {len(sales)}\")"
   ]
  },
  {
   "cell_type": "markdown",
   "metadata": {},
   "source": [
    "For the sales we don't have clearly defined primary key but we can create one from date and client_id. We decided to take the cliend_id because two transactions may have been made at the same time. Check :"
   ]
  },
  {
   "cell_type": "code",
   "execution_count": 80,
   "metadata": {},
   "outputs": [
    {
     "data": {
      "text/plain": [
       "35"
      ]
     },
     "execution_count": 80,
     "metadata": {},
     "output_type": "execute_result"
    }
   ],
   "source": [
    "# without client_id\n",
    "sales[\"date\"].duplicated().sum()"
   ]
  },
  {
   "cell_type": "code",
   "execution_count": 81,
   "metadata": {},
   "outputs": [
    {
     "data": {
      "text/plain": [
       "0"
      ]
     },
     "execution_count": 81,
     "metadata": {},
     "output_type": "execute_result"
    }
   ],
   "source": [
    "# with client_id\n",
    "sales[[\"client_id\", \"date\"]].duplicated().sum()"
   ]
  },
  {
   "cell_type": "code",
   "execution_count": 82,
   "metadata": {},
   "outputs": [
    {
     "name": "stdout",
     "output_type": "stream",
     "text": [
      "df1 not in df2 0\n",
      "df2 not in df1 : 21\n",
      "df1 not in df2 1\n",
      "df2 not in df1 : 22\n"
     ]
    }
   ],
   "source": [
    "def compare_keys(col, df1, df2):\n",
    "  df1_keys = pd.DataFrame(df1[col].unique())\n",
    "  df2_keys = pd.DataFrame(df2[col].unique())\n",
    "\n",
    "  keys_1 = df1_keys.merge(df2_keys, how='outer', indicator=True).loc[lambda x : x['_merge']=='right_only']\n",
    "  print(\"df1 not in df2\", len(keys_1))\n",
    "\n",
    "  keys_2 = df2_keys.merge(df1_keys, how='outer', indicator=True).loc[lambda x : x['_merge']=='right_only']\n",
    "  print(\"df2 not in df1 :\", len(keys_2))\n",
    "\n",
    "compare_keys(col=\"client_id\", df1=clients, df2=sales)\n",
    "compare_keys(col=\"id_prod\", df1=products, df2=sales)"
   ]
  },
  {
   "cell_type": "markdown",
   "metadata": {},
   "source": [
    "In each key that the **sales** table references, there are fewer unique values than in the other 2 tables: \n",
    "- 21 registred clients did not place an order\n",
    "- 22 products not sold"
   ]
  },
  {
   "cell_type": "code",
   "execution_count": 83,
   "metadata": {},
   "outputs": [
    {
     "data": {
      "text/html": [
       "<div>\n",
       "<style scoped>\n",
       "    .dataframe tbody tr th:only-of-type {\n",
       "        vertical-align: middle;\n",
       "    }\n",
       "\n",
       "    .dataframe tbody tr th {\n",
       "        vertical-align: top;\n",
       "    }\n",
       "\n",
       "    .dataframe thead th {\n",
       "        text-align: right;\n",
       "    }\n",
       "</style>\n",
       "<table border=\"1\" class=\"dataframe\">\n",
       "  <thead>\n",
       "    <tr style=\"text-align: right;\">\n",
       "      <th></th>\n",
       "      <th>id_prod</th>\n",
       "      <th>date</th>\n",
       "      <th>session_id</th>\n",
       "      <th>client_id</th>\n",
       "    </tr>\n",
       "  </thead>\n",
       "  <tbody>\n",
       "    <tr>\n",
       "      <th>6235</th>\n",
       "      <td>0_2245</td>\n",
       "      <td>2021-06-17 03:03:12.668129</td>\n",
       "      <td>s_49705</td>\n",
       "      <td>c_1533</td>\n",
       "    </tr>\n",
       "    <tr>\n",
       "      <th>10802</th>\n",
       "      <td>0_2245</td>\n",
       "      <td>2021-06-16 05:53:01.627491</td>\n",
       "      <td>s_49323</td>\n",
       "      <td>c_7954</td>\n",
       "    </tr>\n",
       "    <tr>\n",
       "      <th>14051</th>\n",
       "      <td>0_2245</td>\n",
       "      <td>2021-11-24 17:35:59.911427</td>\n",
       "      <td>s_124474</td>\n",
       "      <td>c_5120</td>\n",
       "    </tr>\n",
       "    <tr>\n",
       "      <th>17486</th>\n",
       "      <td>0_2245</td>\n",
       "      <td>2022-02-28 18:08:49.875709</td>\n",
       "      <td>s_172304</td>\n",
       "      <td>c_4964</td>\n",
       "    </tr>\n",
       "    <tr>\n",
       "      <th>21078</th>\n",
       "      <td>0_2245</td>\n",
       "      <td>2021-03-01 00:09:29.301897</td>\n",
       "      <td>s_3</td>\n",
       "      <td>c_580</td>\n",
       "    </tr>\n",
       "    <tr>\n",
       "      <th>...</th>\n",
       "      <td>...</td>\n",
       "      <td>...</td>\n",
       "      <td>...</td>\n",
       "      <td>...</td>\n",
       "    </tr>\n",
       "    <tr>\n",
       "      <th>322710</th>\n",
       "      <td>0_2245</td>\n",
       "      <td>2021-04-06 19:59:19.462288</td>\n",
       "      <td>s_16936</td>\n",
       "      <td>c_4167</td>\n",
       "    </tr>\n",
       "    <tr>\n",
       "      <th>329417</th>\n",
       "      <td>0_2245</td>\n",
       "      <td>2021-03-30 23:29:02.347672</td>\n",
       "      <td>s_13738</td>\n",
       "      <td>c_7790</td>\n",
       "    </tr>\n",
       "    <tr>\n",
       "      <th>330490</th>\n",
       "      <td>0_2245</td>\n",
       "      <td>2021-12-03 14:14:40.444177</td>\n",
       "      <td>s_128815</td>\n",
       "      <td>c_6189</td>\n",
       "    </tr>\n",
       "    <tr>\n",
       "      <th>335531</th>\n",
       "      <td>0_2245</td>\n",
       "      <td>2021-04-27 18:58:47.703374</td>\n",
       "      <td>s_26624</td>\n",
       "      <td>c_1595</td>\n",
       "    </tr>\n",
       "    <tr>\n",
       "      <th>336220</th>\n",
       "      <td>0_2245</td>\n",
       "      <td>2021-05-01 03:35:03.146305</td>\n",
       "      <td>s_28235</td>\n",
       "      <td>c_5714</td>\n",
       "    </tr>\n",
       "  </tbody>\n",
       "</table>\n",
       "<p>103 rows × 4 columns</p>\n",
       "</div>"
      ],
      "text/plain": [
       "       id_prod                        date session_id client_id\n",
       "6235    0_2245  2021-06-17 03:03:12.668129    s_49705    c_1533\n",
       "10802   0_2245  2021-06-16 05:53:01.627491    s_49323    c_7954\n",
       "14051   0_2245  2021-11-24 17:35:59.911427   s_124474    c_5120\n",
       "17486   0_2245  2022-02-28 18:08:49.875709   s_172304    c_4964\n",
       "21078   0_2245  2021-03-01 00:09:29.301897        s_3     c_580\n",
       "...        ...                         ...        ...       ...\n",
       "322710  0_2245  2021-04-06 19:59:19.462288    s_16936    c_4167\n",
       "329417  0_2245  2021-03-30 23:29:02.347672    s_13738    c_7790\n",
       "330490  0_2245  2021-12-03 14:14:40.444177   s_128815    c_6189\n",
       "335531  0_2245  2021-04-27 18:58:47.703374    s_26624    c_1595\n",
       "336220  0_2245  2021-05-01 03:35:03.146305    s_28235    c_5714\n",
       "\n",
       "[103 rows x 4 columns]"
      ]
     },
     "execution_count": 83,
     "metadata": {},
     "output_type": "execute_result"
    }
   ],
   "source": [
    "# \"id_prod\" only present in sales\n",
    "sales[~sales[\"id_prod\"].isin(products[\"id_prod\"])]"
   ]
  },
  {
   "cell_type": "markdown",
   "metadata": {},
   "source": [
    "There is one product present only in transactions: 0_2245 (103 occurrences)"
   ]
  },
  {
   "cell_type": "code",
   "execution_count": 84,
   "metadata": {},
   "outputs": [
    {
     "data": {
      "text/html": [
       "<div>\n",
       "<style scoped>\n",
       "    .dataframe tbody tr th:only-of-type {\n",
       "        vertical-align: middle;\n",
       "    }\n",
       "\n",
       "    .dataframe tbody tr th {\n",
       "        vertical-align: top;\n",
       "    }\n",
       "\n",
       "    .dataframe thead th {\n",
       "        text-align: right;\n",
       "    }\n",
       "</style>\n",
       "<table border=\"1\" class=\"dataframe\">\n",
       "  <thead>\n",
       "    <tr style=\"text-align: right;\">\n",
       "      <th></th>\n",
       "      <th>id_prod</th>\n",
       "      <th>date</th>\n",
       "      <th>session_id</th>\n",
       "      <th>client_id</th>\n",
       "    </tr>\n",
       "  </thead>\n",
       "  <tbody>\n",
       "    <tr>\n",
       "      <th>count</th>\n",
       "      <td>336890</td>\n",
       "      <td>336890</td>\n",
       "      <td>336890</td>\n",
       "      <td>336890</td>\n",
       "    </tr>\n",
       "    <tr>\n",
       "      <th>unique</th>\n",
       "      <td>3266</td>\n",
       "      <td>336855</td>\n",
       "      <td>169195</td>\n",
       "      <td>8602</td>\n",
       "    </tr>\n",
       "    <tr>\n",
       "      <th>top</th>\n",
       "      <td>1_369</td>\n",
       "      <td>test_2021-03-01 02:30:02.237443</td>\n",
       "      <td>s_0</td>\n",
       "      <td>c_1609</td>\n",
       "    </tr>\n",
       "    <tr>\n",
       "      <th>freq</th>\n",
       "      <td>1081</td>\n",
       "      <td>2</td>\n",
       "      <td>74</td>\n",
       "      <td>12855</td>\n",
       "    </tr>\n",
       "  </tbody>\n",
       "</table>\n",
       "</div>"
      ],
      "text/plain": [
       "       id_prod                             date session_id client_id\n",
       "count   336890                           336890     336890    336890\n",
       "unique    3266                           336855     169195      8602\n",
       "top      1_369  test_2021-03-01 02:30:02.237443        s_0    c_1609\n",
       "freq      1081                                2         74     12855"
      ]
     },
     "execution_count": 84,
     "metadata": {},
     "output_type": "execute_result"
    }
   ],
   "source": [
    "sales.describe(include=\"all\")"
   ]
  },
  {
   "cell_type": "markdown",
   "metadata": {},
   "source": [
    "There are fewer unique session identifiers than dates, so a single session can contain multiple transaction dates "
   ]
  },
  {
   "cell_type": "markdown",
   "metadata": {},
   "source": [
    "# Merge datas"
   ]
  },
  {
   "cell_type": "code",
   "execution_count": 85,
   "metadata": {},
   "outputs": [
    {
     "data": {
      "text/html": [
       "<div>\n",
       "<style scoped>\n",
       "    .dataframe tbody tr th:only-of-type {\n",
       "        vertical-align: middle;\n",
       "    }\n",
       "\n",
       "    .dataframe tbody tr th {\n",
       "        vertical-align: top;\n",
       "    }\n",
       "\n",
       "    .dataframe thead th {\n",
       "        text-align: right;\n",
       "    }\n",
       "</style>\n",
       "<table border=\"1\" class=\"dataframe\">\n",
       "  <thead>\n",
       "    <tr style=\"text-align: right;\">\n",
       "      <th></th>\n",
       "      <th>id_prod</th>\n",
       "      <th>date</th>\n",
       "      <th>session_id</th>\n",
       "      <th>client_id</th>\n",
       "      <th>sex</th>\n",
       "      <th>birth</th>\n",
       "      <th>price</th>\n",
       "      <th>categ</th>\n",
       "    </tr>\n",
       "  </thead>\n",
       "  <tbody>\n",
       "    <tr>\n",
       "      <th>0</th>\n",
       "      <td>0_1483</td>\n",
       "      <td>2021-04-10 18:37:28.723910</td>\n",
       "      <td>s_18746</td>\n",
       "      <td>c_4450</td>\n",
       "      <td>f</td>\n",
       "      <td>1977-01-01</td>\n",
       "      <td>4.99</td>\n",
       "      <td>0.0</td>\n",
       "    </tr>\n",
       "    <tr>\n",
       "      <th>1</th>\n",
       "      <td>2_226</td>\n",
       "      <td>2022-02-03 01:55:53.276402</td>\n",
       "      <td>s_159142</td>\n",
       "      <td>c_277</td>\n",
       "      <td>f</td>\n",
       "      <td>2000-01-01</td>\n",
       "      <td>65.75</td>\n",
       "      <td>2.0</td>\n",
       "    </tr>\n",
       "    <tr>\n",
       "      <th>2</th>\n",
       "      <td>1_374</td>\n",
       "      <td>2021-09-23 15:13:46.938559</td>\n",
       "      <td>s_94290</td>\n",
       "      <td>c_4270</td>\n",
       "      <td>f</td>\n",
       "      <td>1979-01-01</td>\n",
       "      <td>10.71</td>\n",
       "      <td>1.0</td>\n",
       "    </tr>\n",
       "    <tr>\n",
       "      <th>3</th>\n",
       "      <td>0_2186</td>\n",
       "      <td>2021-10-17 03:27:18.783634</td>\n",
       "      <td>s_105936</td>\n",
       "      <td>c_4597</td>\n",
       "      <td>m</td>\n",
       "      <td>1963-01-01</td>\n",
       "      <td>4.20</td>\n",
       "      <td>0.0</td>\n",
       "    </tr>\n",
       "    <tr>\n",
       "      <th>4</th>\n",
       "      <td>0_1351</td>\n",
       "      <td>2021-07-17 20:34:25.800563</td>\n",
       "      <td>s_63642</td>\n",
       "      <td>c_1242</td>\n",
       "      <td>f</td>\n",
       "      <td>1980-01-01</td>\n",
       "      <td>8.99</td>\n",
       "      <td>0.0</td>\n",
       "    </tr>\n",
       "    <tr>\n",
       "      <th>...</th>\n",
       "      <td>...</td>\n",
       "      <td>...</td>\n",
       "      <td>...</td>\n",
       "      <td>...</td>\n",
       "      <td>...</td>\n",
       "      <td>...</td>\n",
       "      <td>...</td>\n",
       "      <td>...</td>\n",
       "    </tr>\n",
       "    <tr>\n",
       "      <th>336885</th>\n",
       "      <td>1_671</td>\n",
       "      <td>2021-05-28 12:35:46.214839</td>\n",
       "      <td>s_40720</td>\n",
       "      <td>c_3454</td>\n",
       "      <td>m</td>\n",
       "      <td>1969-01-01</td>\n",
       "      <td>31.99</td>\n",
       "      <td>1.0</td>\n",
       "    </tr>\n",
       "    <tr>\n",
       "      <th>336886</th>\n",
       "      <td>0_759</td>\n",
       "      <td>2021-06-19 00:19:23.917703</td>\n",
       "      <td>s_50568</td>\n",
       "      <td>c_6268</td>\n",
       "      <td>m</td>\n",
       "      <td>1991-01-01</td>\n",
       "      <td>22.99</td>\n",
       "      <td>0.0</td>\n",
       "    </tr>\n",
       "    <tr>\n",
       "      <th>336887</th>\n",
       "      <td>0_1256</td>\n",
       "      <td>2021-03-16 17:31:59.442007</td>\n",
       "      <td>s_7219</td>\n",
       "      <td>c_4137</td>\n",
       "      <td>f</td>\n",
       "      <td>1968-01-01</td>\n",
       "      <td>11.03</td>\n",
       "      <td>0.0</td>\n",
       "    </tr>\n",
       "    <tr>\n",
       "      <th>336888</th>\n",
       "      <td>2_227</td>\n",
       "      <td>2021-10-30 16:50:15.997750</td>\n",
       "      <td>s_112349</td>\n",
       "      <td>c_5</td>\n",
       "      <td>f</td>\n",
       "      <td>1994-01-01</td>\n",
       "      <td>50.99</td>\n",
       "      <td>2.0</td>\n",
       "    </tr>\n",
       "    <tr>\n",
       "      <th>336889</th>\n",
       "      <td>0_1417</td>\n",
       "      <td>2021-06-26 14:38:19.732946</td>\n",
       "      <td>s_54117</td>\n",
       "      <td>c_6714</td>\n",
       "      <td>f</td>\n",
       "      <td>1968-01-01</td>\n",
       "      <td>17.99</td>\n",
       "      <td>0.0</td>\n",
       "    </tr>\n",
       "  </tbody>\n",
       "</table>\n",
       "<p>336890 rows × 8 columns</p>\n",
       "</div>"
      ],
      "text/plain": [
       "       id_prod                        date session_id client_id sex  \\\n",
       "0       0_1483  2021-04-10 18:37:28.723910    s_18746    c_4450   f   \n",
       "1        2_226  2022-02-03 01:55:53.276402   s_159142     c_277   f   \n",
       "2        1_374  2021-09-23 15:13:46.938559    s_94290    c_4270   f   \n",
       "3       0_2186  2021-10-17 03:27:18.783634   s_105936    c_4597   m   \n",
       "4       0_1351  2021-07-17 20:34:25.800563    s_63642    c_1242   f   \n",
       "...        ...                         ...        ...       ...  ..   \n",
       "336885   1_671  2021-05-28 12:35:46.214839    s_40720    c_3454   m   \n",
       "336886   0_759  2021-06-19 00:19:23.917703    s_50568    c_6268   m   \n",
       "336887  0_1256  2021-03-16 17:31:59.442007     s_7219    c_4137   f   \n",
       "336888   2_227  2021-10-30 16:50:15.997750   s_112349       c_5   f   \n",
       "336889  0_1417  2021-06-26 14:38:19.732946    s_54117    c_6714   f   \n",
       "\n",
       "            birth  price  categ  \n",
       "0      1977-01-01   4.99    0.0  \n",
       "1      2000-01-01  65.75    2.0  \n",
       "2      1979-01-01  10.71    1.0  \n",
       "3      1963-01-01   4.20    0.0  \n",
       "4      1980-01-01   8.99    0.0  \n",
       "...           ...    ...    ...  \n",
       "336885 1969-01-01  31.99    1.0  \n",
       "336886 1991-01-01  22.99    0.0  \n",
       "336887 1968-01-01  11.03    0.0  \n",
       "336888 1994-01-01  50.99    2.0  \n",
       "336889 1968-01-01  17.99    0.0  \n",
       "\n",
       "[336890 rows x 8 columns]"
      ]
     },
     "execution_count": 85,
     "metadata": {},
     "output_type": "execute_result"
    }
   ],
   "source": [
    "merged = sales.merge(clients, how=\"left\", on=\"client_id\")\n",
    "merged = merged.merge(products, how=\"left\", on=\"id_prod\")\n",
    "merged"
   ]
  },
  {
   "cell_type": "code",
   "execution_count": 86,
   "metadata": {},
   "outputs": [
    {
     "data": {
      "text/plain": [
       "0"
      ]
     },
     "execution_count": 86,
     "metadata": {},
     "output_type": "execute_result"
    }
   ],
   "source": [
    "# check duplicated\n",
    "merged[[\"client_id\", \"date\"]].duplicated().sum()"
   ]
  },
  {
   "cell_type": "markdown",
   "metadata": {},
   "source": [
    "# Cleaning"
   ]
  },
  {
   "cell_type": "markdown",
   "metadata": {},
   "source": [
    "Deletion of the lines where the date is invalid :"
   ]
  },
  {
   "cell_type": "code",
   "execution_count": 87,
   "metadata": {},
   "outputs": [
    {
     "name": "stdout",
     "output_type": "stream",
     "text": [
      "Drop 74 rows\n"
     ]
    }
   ],
   "source": [
    "row_with_invalid_date = merged[pd.to_datetime(merged[\"date\"], errors=\"coerce\").isnull()].index\n",
    "merged.drop(row_with_invalid_date, inplace=True)\n",
    "print(\"Drop\", len(row_with_invalid_date), \"rows\")"
   ]
  },
  {
   "cell_type": "markdown",
   "metadata": {},
   "source": [
    "Now we can convert the \"date\" to a datetime type :"
   ]
  },
  {
   "cell_type": "code",
   "execution_count": 88,
   "metadata": {},
   "outputs": [
    {
     "data": {
      "text/html": [
       "<div>\n",
       "<style scoped>\n",
       "    .dataframe tbody tr th:only-of-type {\n",
       "        vertical-align: middle;\n",
       "    }\n",
       "\n",
       "    .dataframe tbody tr th {\n",
       "        vertical-align: top;\n",
       "    }\n",
       "\n",
       "    .dataframe thead th {\n",
       "        text-align: right;\n",
       "    }\n",
       "</style>\n",
       "<table border=\"1\" class=\"dataframe\">\n",
       "  <thead>\n",
       "    <tr style=\"text-align: right;\">\n",
       "      <th></th>\n",
       "      <th>id_prod</th>\n",
       "      <th>date</th>\n",
       "      <th>session_id</th>\n",
       "      <th>client_id</th>\n",
       "      <th>sex</th>\n",
       "      <th>birth</th>\n",
       "      <th>price</th>\n",
       "      <th>categ</th>\n",
       "    </tr>\n",
       "  </thead>\n",
       "  <tbody>\n",
       "    <tr>\n",
       "      <th>0</th>\n",
       "      <td>0_1483</td>\n",
       "      <td>2021-04-10 18:37:28.723910</td>\n",
       "      <td>s_18746</td>\n",
       "      <td>c_4450</td>\n",
       "      <td>f</td>\n",
       "      <td>1977-01-01</td>\n",
       "      <td>4.99</td>\n",
       "      <td>0.0</td>\n",
       "    </tr>\n",
       "    <tr>\n",
       "      <th>1</th>\n",
       "      <td>2_226</td>\n",
       "      <td>2022-02-03 01:55:53.276402</td>\n",
       "      <td>s_159142</td>\n",
       "      <td>c_277</td>\n",
       "      <td>f</td>\n",
       "      <td>2000-01-01</td>\n",
       "      <td>65.75</td>\n",
       "      <td>2.0</td>\n",
       "    </tr>\n",
       "    <tr>\n",
       "      <th>2</th>\n",
       "      <td>1_374</td>\n",
       "      <td>2021-09-23 15:13:46.938559</td>\n",
       "      <td>s_94290</td>\n",
       "      <td>c_4270</td>\n",
       "      <td>f</td>\n",
       "      <td>1979-01-01</td>\n",
       "      <td>10.71</td>\n",
       "      <td>1.0</td>\n",
       "    </tr>\n",
       "    <tr>\n",
       "      <th>3</th>\n",
       "      <td>0_2186</td>\n",
       "      <td>2021-10-17 03:27:18.783634</td>\n",
       "      <td>s_105936</td>\n",
       "      <td>c_4597</td>\n",
       "      <td>m</td>\n",
       "      <td>1963-01-01</td>\n",
       "      <td>4.20</td>\n",
       "      <td>0.0</td>\n",
       "    </tr>\n",
       "    <tr>\n",
       "      <th>4</th>\n",
       "      <td>0_1351</td>\n",
       "      <td>2021-07-17 20:34:25.800563</td>\n",
       "      <td>s_63642</td>\n",
       "      <td>c_1242</td>\n",
       "      <td>f</td>\n",
       "      <td>1980-01-01</td>\n",
       "      <td>8.99</td>\n",
       "      <td>0.0</td>\n",
       "    </tr>\n",
       "  </tbody>\n",
       "</table>\n",
       "</div>"
      ],
      "text/plain": [
       "  id_prod                       date session_id client_id sex      birth  \\\n",
       "0  0_1483 2021-04-10 18:37:28.723910    s_18746    c_4450   f 1977-01-01   \n",
       "1   2_226 2022-02-03 01:55:53.276402   s_159142     c_277   f 2000-01-01   \n",
       "2   1_374 2021-09-23 15:13:46.938559    s_94290    c_4270   f 1979-01-01   \n",
       "3  0_2186 2021-10-17 03:27:18.783634   s_105936    c_4597   m 1963-01-01   \n",
       "4  0_1351 2021-07-17 20:34:25.800563    s_63642    c_1242   f 1980-01-01   \n",
       "\n",
       "   price  categ  \n",
       "0   4.99    0.0  \n",
       "1  65.75    2.0  \n",
       "2  10.71    1.0  \n",
       "3   4.20    0.0  \n",
       "4   8.99    0.0  "
      ]
     },
     "execution_count": 88,
     "metadata": {},
     "output_type": "execute_result"
    }
   ],
   "source": [
    "merged[\"date\"] = pd.to_datetime(merged[\"date\"])\n",
    "merged.head()"
   ]
  },
  {
   "cell_type": "markdown",
   "metadata": {},
   "source": [
    "Now lets check the value who have a \"price\" equal to -1"
   ]
  },
  {
   "cell_type": "code",
   "execution_count": 89,
   "metadata": {},
   "outputs": [
    {
     "data": {
      "text/html": [
       "<div>\n",
       "<style scoped>\n",
       "    .dataframe tbody tr th:only-of-type {\n",
       "        vertical-align: middle;\n",
       "    }\n",
       "\n",
       "    .dataframe tbody tr th {\n",
       "        vertical-align: top;\n",
       "    }\n",
       "\n",
       "    .dataframe thead th {\n",
       "        text-align: right;\n",
       "    }\n",
       "</style>\n",
       "<table border=\"1\" class=\"dataframe\">\n",
       "  <thead>\n",
       "    <tr style=\"text-align: right;\">\n",
       "      <th></th>\n",
       "      <th>id_prod</th>\n",
       "      <th>date</th>\n",
       "      <th>session_id</th>\n",
       "      <th>client_id</th>\n",
       "      <th>sex</th>\n",
       "      <th>birth</th>\n",
       "      <th>price</th>\n",
       "      <th>categ</th>\n",
       "    </tr>\n",
       "  </thead>\n",
       "  <tbody>\n",
       "  </tbody>\n",
       "</table>\n",
       "</div>"
      ],
      "text/plain": [
       "Empty DataFrame\n",
       "Columns: [id_prod, date, session_id, client_id, sex, birth, price, categ]\n",
       "Index: []"
      ]
     },
     "execution_count": 89,
     "metadata": {},
     "output_type": "execute_result"
    }
   ],
   "source": [
    "merged[merged[\"price\"] == -1]"
   ]
  },
  {
   "cell_type": "markdown",
   "metadata": {},
   "source": [
    "We no longer have row where the price value is equal -1.  Let's visualize our datas :"
   ]
  },
  {
   "cell_type": "code",
   "execution_count": 90,
   "metadata": {},
   "outputs": [
    {
     "data": {
      "image/png": "[encoded data removed]",
      "text/plain": [
       "<Figure size 800x500 with 1 Axes>"
      ]
     },
     "metadata": {},
     "output_type": "display_data"
    }
   ],
   "source": [
    "plt.figure(figsize=(8, 5))\n",
    "sns.histplot(data=merged, x=\"date\", hue=\"categ\")\n",
    "plt.title(\"Sales count per dates\")\n",
    "plt.show()"
   ]
  },
  {
   "cell_type": "markdown",
   "metadata": {},
   "source": [
    "We can see that there are missing data between 2021-09 and 2021-11 for values in categ 1. Let's see it :"
   ]
  },
  {
   "cell_type": "code",
   "execution_count": 91,
   "metadata": {},
   "outputs": [
    {
     "data": {
      "text/plain": [
       "array(['2021-09-01', '2021-09-02', '2021-09-03', '2021-09-04',\n",
       "       '2021-09-05', '2021-09-06', '2021-09-07', '2021-09-08',\n",
       "       '2021-09-09', '2021-09-10', '2021-09-11', '2021-09-12',\n",
       "       '2021-09-13', '2021-09-14', '2021-09-15', '2021-09-16',\n",
       "       '2021-09-17', '2021-09-18', '2021-09-19', '2021-09-20',\n",
       "       '2021-09-21', '2021-09-22', '2021-09-23', '2021-09-24',\n",
       "       '2021-09-25', '2021-09-26', '2021-09-27', '2021-09-28',\n",
       "       '2021-09-29', '2021-09-30', '2021-10-01', '2021-10-28',\n",
       "       '2021-10-29', '2021-10-30', '2021-10-31', '2021-11-01',\n",
       "       '2021-11-02', '2021-11-03', '2021-11-04', '2021-11-05',\n",
       "       '2021-11-06', '2021-11-07', '2021-11-08', '2021-11-09',\n",
       "       '2021-11-10', '2021-11-11', '2021-11-12', '2021-11-13',\n",
       "       '2021-11-14', '2021-11-15', '2021-11-16', '2021-11-17',\n",
       "       '2021-11-18', '2021-11-19', '2021-11-20', '2021-11-21',\n",
       "       '2021-11-22', '2021-11-23', '2021-11-24', '2021-11-25',\n",
       "       '2021-11-26', '2021-11-27', '2021-11-28', '2021-11-29',\n",
       "       '2021-11-30'], dtype=object)"
      ]
     },
     "execution_count": 91,
     "metadata": {},
     "output_type": "execute_result"
    }
   ],
   "source": [
    "october_categ_1 = merged[((merged[\"date\"] >= \"2021-09\") & (merged[\"date\"] <= \"2021-12\")) & (merged[\"categ\"] == 1)]\n",
    "october_categ_1[\"date\"].sort_values().dt.strftime(\"%Y-%m-%d\").unique()"
   ]
  },
  {
   "cell_type": "markdown",
   "metadata": {},
   "source": [
    "We can see that it misses practically the whole october month. Instead add random values we decide to cut all datas in this period :"
   ]
  },
  {
   "cell_type": "code",
   "execution_count": 92,
   "metadata": {},
   "outputs": [
    {
     "name": "stdout",
     "output_type": "stream",
     "text": [
      "20646 rows deleted\n"
     ]
    }
   ],
   "source": [
    "october_condition = ((merged[\"date\"] >= \"2021-10-01\") & (merged[\"date\"] <= \"2021-10-31\"))\n",
    "len_before_deletion = len(merged)\n",
    "merged.drop(merged[october_condition].index, inplace=True)\n",
    "print(len_before_deletion - len(merged), \"rows deleted\")"
   ]
  },
  {
   "cell_type": "code",
   "execution_count": 93,
   "metadata": {},
   "outputs": [],
   "source": [
    "# We don't need this anymore\n",
    "del october_categ_1\n",
    "del october_condition\n",
    "del len_before_deletion"
   ]
  },
  {
   "cell_type": "code",
   "execution_count": 94,
   "metadata": {},
   "outputs": [
    {
     "data": {
      "image/png": "[encoded data removed]",
      "text/plain": [
       "<Figure size 800x500 with 1 Axes>"
      ]
     },
     "metadata": {},
     "output_type": "display_data"
    }
   ],
   "source": [
    "# Let's visualize our data now\n",
    "plt.figure(figsize=(8, 5))\n",
    "sns.histplot(data=merged, x=\"date\", hue=\"categ\")\n",
    "plt.title(\"Sales count per dates\")\n",
    "plt.show()"
   ]
  },
  {
   "cell_type": "markdown",
   "metadata": {},
   "source": [
    "We still have the problem of missing prices and categories :"
   ]
  },
  {
   "cell_type": "code",
   "execution_count": 95,
   "metadata": {},
   "outputs": [
    {
     "data": {
      "text/plain": [
       "(id_prod        0\n",
       " date           0\n",
       " session_id     0\n",
       " client_id      0\n",
       " sex            0\n",
       " birth          0\n",
       " price         96\n",
       " categ         96\n",
       " dtype: int64,\n",
       " 0.03036341208843344)"
      ]
     },
     "execution_count": 95,
     "metadata": {},
     "output_type": "execute_result"
    }
   ],
   "source": [
    "merged.isnull().sum(), merged[\"price\"].isnull().sum() / len(merged) * 100"
   ]
  },
  {
   "cell_type": "markdown",
   "metadata": {},
   "source": [
    "Missing values represente 0.03 percent of our dataset. We can delete it :"
   ]
  },
  {
   "cell_type": "code",
   "execution_count": 96,
   "metadata": {},
   "outputs": [
    {
     "data": {
      "text/html": [
       "<div>\n",
       "<style scoped>\n",
       "    .dataframe tbody tr th:only-of-type {\n",
       "        vertical-align: middle;\n",
       "    }\n",
       "\n",
       "    .dataframe tbody tr th {\n",
       "        vertical-align: top;\n",
       "    }\n",
       "\n",
       "    .dataframe thead th {\n",
       "        text-align: right;\n",
       "    }\n",
       "</style>\n",
       "<table border=\"1\" class=\"dataframe\">\n",
       "  <thead>\n",
       "    <tr style=\"text-align: right;\">\n",
       "      <th></th>\n",
       "      <th>id_prod</th>\n",
       "      <th>date</th>\n",
       "      <th>session_id</th>\n",
       "      <th>client_id</th>\n",
       "      <th>sex</th>\n",
       "      <th>birth</th>\n",
       "      <th>price</th>\n",
       "      <th>categ</th>\n",
       "    </tr>\n",
       "  </thead>\n",
       "  <tbody>\n",
       "    <tr>\n",
       "      <th>0</th>\n",
       "      <td>0_1483</td>\n",
       "      <td>2021-04-10 18:37:28.723910</td>\n",
       "      <td>s_18746</td>\n",
       "      <td>c_4450</td>\n",
       "      <td>f</td>\n",
       "      <td>1977-01-01</td>\n",
       "      <td>4.99</td>\n",
       "      <td>0.0</td>\n",
       "    </tr>\n",
       "    <tr>\n",
       "      <th>1</th>\n",
       "      <td>2_226</td>\n",
       "      <td>2022-02-03 01:55:53.276402</td>\n",
       "      <td>s_159142</td>\n",
       "      <td>c_277</td>\n",
       "      <td>f</td>\n",
       "      <td>2000-01-01</td>\n",
       "      <td>65.75</td>\n",
       "      <td>2.0</td>\n",
       "    </tr>\n",
       "    <tr>\n",
       "      <th>2</th>\n",
       "      <td>1_374</td>\n",
       "      <td>2021-09-23 15:13:46.938559</td>\n",
       "      <td>s_94290</td>\n",
       "      <td>c_4270</td>\n",
       "      <td>f</td>\n",
       "      <td>1979-01-01</td>\n",
       "      <td>10.71</td>\n",
       "      <td>1.0</td>\n",
       "    </tr>\n",
       "    <tr>\n",
       "      <th>4</th>\n",
       "      <td>0_1351</td>\n",
       "      <td>2021-07-17 20:34:25.800563</td>\n",
       "      <td>s_63642</td>\n",
       "      <td>c_1242</td>\n",
       "      <td>f</td>\n",
       "      <td>1980-01-01</td>\n",
       "      <td>8.99</td>\n",
       "      <td>0.0</td>\n",
       "    </tr>\n",
       "    <tr>\n",
       "      <th>5</th>\n",
       "      <td>0_1085</td>\n",
       "      <td>2021-09-15 05:47:48.215162</td>\n",
       "      <td>s_90139</td>\n",
       "      <td>c_2526</td>\n",
       "      <td>f</td>\n",
       "      <td>1982-01-01</td>\n",
       "      <td>3.99</td>\n",
       "      <td>0.0</td>\n",
       "    </tr>\n",
       "    <tr>\n",
       "      <th>...</th>\n",
       "      <td>...</td>\n",
       "      <td>...</td>\n",
       "      <td>...</td>\n",
       "      <td>...</td>\n",
       "      <td>...</td>\n",
       "      <td>...</td>\n",
       "      <td>...</td>\n",
       "      <td>...</td>\n",
       "    </tr>\n",
       "    <tr>\n",
       "      <th>336884</th>\n",
       "      <td>1_498</td>\n",
       "      <td>2022-02-03 01:39:15.793010</td>\n",
       "      <td>s_159138</td>\n",
       "      <td>c_1857</td>\n",
       "      <td>f</td>\n",
       "      <td>1990-01-01</td>\n",
       "      <td>23.37</td>\n",
       "      <td>1.0</td>\n",
       "    </tr>\n",
       "    <tr>\n",
       "      <th>336885</th>\n",
       "      <td>1_671</td>\n",
       "      <td>2021-05-28 12:35:46.214839</td>\n",
       "      <td>s_40720</td>\n",
       "      <td>c_3454</td>\n",
       "      <td>m</td>\n",
       "      <td>1969-01-01</td>\n",
       "      <td>31.99</td>\n",
       "      <td>1.0</td>\n",
       "    </tr>\n",
       "    <tr>\n",
       "      <th>336886</th>\n",
       "      <td>0_759</td>\n",
       "      <td>2021-06-19 00:19:23.917703</td>\n",
       "      <td>s_50568</td>\n",
       "      <td>c_6268</td>\n",
       "      <td>m</td>\n",
       "      <td>1991-01-01</td>\n",
       "      <td>22.99</td>\n",
       "      <td>0.0</td>\n",
       "    </tr>\n",
       "    <tr>\n",
       "      <th>336887</th>\n",
       "      <td>0_1256</td>\n",
       "      <td>2021-03-16 17:31:59.442007</td>\n",
       "      <td>s_7219</td>\n",
       "      <td>c_4137</td>\n",
       "      <td>f</td>\n",
       "      <td>1968-01-01</td>\n",
       "      <td>11.03</td>\n",
       "      <td>0.0</td>\n",
       "    </tr>\n",
       "    <tr>\n",
       "      <th>336889</th>\n",
       "      <td>0_1417</td>\n",
       "      <td>2021-06-26 14:38:19.732946</td>\n",
       "      <td>s_54117</td>\n",
       "      <td>c_6714</td>\n",
       "      <td>f</td>\n",
       "      <td>1968-01-01</td>\n",
       "      <td>17.99</td>\n",
       "      <td>0.0</td>\n",
       "    </tr>\n",
       "  </tbody>\n",
       "</table>\n",
       "<p>316074 rows × 8 columns</p>\n",
       "</div>"
      ],
      "text/plain": [
       "       id_prod                       date session_id client_id sex      birth  \\\n",
       "0       0_1483 2021-04-10 18:37:28.723910    s_18746    c_4450   f 1977-01-01   \n",
       "1        2_226 2022-02-03 01:55:53.276402   s_159142     c_277   f 2000-01-01   \n",
       "2        1_374 2021-09-23 15:13:46.938559    s_94290    c_4270   f 1979-01-01   \n",
       "4       0_1351 2021-07-17 20:34:25.800563    s_63642    c_1242   f 1980-01-01   \n",
       "5       0_1085 2021-09-15 05:47:48.215162    s_90139    c_2526   f 1982-01-01   \n",
       "...        ...                        ...        ...       ...  ..        ...   \n",
       "336884   1_498 2022-02-03 01:39:15.793010   s_159138    c_1857   f 1990-01-01   \n",
       "336885   1_671 2021-05-28 12:35:46.214839    s_40720    c_3454   m 1969-01-01   \n",
       "336886   0_759 2021-06-19 00:19:23.917703    s_50568    c_6268   m 1991-01-01   \n",
       "336887  0_1256 2021-03-16 17:31:59.442007     s_7219    c_4137   f 1968-01-01   \n",
       "336889  0_1417 2021-06-26 14:38:19.732946    s_54117    c_6714   f 1968-01-01   \n",
       "\n",
       "        price  categ  \n",
       "0        4.99    0.0  \n",
       "1       65.75    2.0  \n",
       "2       10.71    1.0  \n",
       "4        8.99    0.0  \n",
       "5        3.99    0.0  \n",
       "...       ...    ...  \n",
       "336884  23.37    1.0  \n",
       "336885  31.99    1.0  \n",
       "336886  22.99    0.0  \n",
       "336887  11.03    0.0  \n",
       "336889  17.99    0.0  \n",
       "\n",
       "[316074 rows x 8 columns]"
      ]
     },
     "execution_count": 96,
     "metadata": {},
     "output_type": "execute_result"
    }
   ],
   "source": [
    "merged.drop(merged[merged[\"price\"].isnull()].index, inplace=True)\n",
    "merged"
   ]
  },
  {
   "cell_type": "markdown",
   "metadata": {},
   "source": [
    "# Outliers detections"
   ]
  },
  {
   "cell_type": "markdown",
   "metadata": {},
   "source": [
    "## Zscore"
   ]
  },
  {
   "cell_type": "code",
   "execution_count": 97,
   "metadata": {},
   "outputs": [
    {
     "data": {
      "text/html": [
       "<div>\n",
       "<style scoped>\n",
       "    .dataframe tbody tr th:only-of-type {\n",
       "        vertical-align: middle;\n",
       "    }\n",
       "\n",
       "    .dataframe tbody tr th {\n",
       "        vertical-align: top;\n",
       "    }\n",
       "\n",
       "    .dataframe thead th {\n",
       "        text-align: right;\n",
       "    }\n",
       "</style>\n",
       "<table border=\"1\" class=\"dataframe\">\n",
       "  <thead>\n",
       "    <tr style=\"text-align: right;\">\n",
       "      <th></th>\n",
       "      <th>id_prod</th>\n",
       "      <th>date</th>\n",
       "      <th>session_id</th>\n",
       "      <th>client_id</th>\n",
       "      <th>sex</th>\n",
       "      <th>birth</th>\n",
       "      <th>price</th>\n",
       "      <th>categ</th>\n",
       "      <th>zscore</th>\n",
       "    </tr>\n",
       "  </thead>\n",
       "  <tbody>\n",
       "    <tr>\n",
       "      <th>1</th>\n",
       "      <td>2_226</td>\n",
       "      <td>2022-02-03 01:55:53.276402</td>\n",
       "      <td>s_159142</td>\n",
       "      <td>c_277</td>\n",
       "      <td>f</td>\n",
       "      <td>2000-01-01</td>\n",
       "      <td>65.75</td>\n",
       "      <td>2.0</td>\n",
       "      <td>2.707802</td>\n",
       "    </tr>\n",
       "    <tr>\n",
       "      <th>27</th>\n",
       "      <td>2_135</td>\n",
       "      <td>2021-05-26 01:46:59.530702</td>\n",
       "      <td>s_39581</td>\n",
       "      <td>c_5192</td>\n",
       "      <td>m</td>\n",
       "      <td>1965-01-01</td>\n",
       "      <td>68.99</td>\n",
       "      <td>2.0</td>\n",
       "      <td>2.889186</td>\n",
       "    </tr>\n",
       "    <tr>\n",
       "      <th>73</th>\n",
       "      <td>2_208</td>\n",
       "      <td>2021-08-21 21:58:40.983725</td>\n",
       "      <td>s_78917</td>\n",
       "      <td>c_7881</td>\n",
       "      <td>m</td>\n",
       "      <td>1996-01-01</td>\n",
       "      <td>54.87</td>\n",
       "      <td>2.0</td>\n",
       "      <td>2.098710</td>\n",
       "    </tr>\n",
       "    <tr>\n",
       "      <th>111</th>\n",
       "      <td>2_139</td>\n",
       "      <td>2022-01-16 13:39:40.278930</td>\n",
       "      <td>s_150675</td>\n",
       "      <td>c_8517</td>\n",
       "      <td>f</td>\n",
       "      <td>2000-01-01</td>\n",
       "      <td>82.99</td>\n",
       "      <td>2.0</td>\n",
       "      <td>3.672944</td>\n",
       "    </tr>\n",
       "    <tr>\n",
       "      <th>132</th>\n",
       "      <td>2_62</td>\n",
       "      <td>2021-08-28 05:50:46.906391</td>\n",
       "      <td>s_81697</td>\n",
       "      <td>c_7806</td>\n",
       "      <td>f</td>\n",
       "      <td>1994-01-01</td>\n",
       "      <td>60.96</td>\n",
       "      <td>2.0</td>\n",
       "      <td>2.439645</td>\n",
       "    </tr>\n",
       "    <tr>\n",
       "      <th>...</th>\n",
       "      <td>...</td>\n",
       "      <td>...</td>\n",
       "      <td>...</td>\n",
       "      <td>...</td>\n",
       "      <td>...</td>\n",
       "      <td>...</td>\n",
       "      <td>...</td>\n",
       "      <td>...</td>\n",
       "      <td>...</td>\n",
       "    </tr>\n",
       "    <tr>\n",
       "      <th>336732</th>\n",
       "      <td>2_160</td>\n",
       "      <td>2021-04-03 20:56:24.950063</td>\n",
       "      <td>s_15576</td>\n",
       "      <td>c_7011</td>\n",
       "      <td>f</td>\n",
       "      <td>1996-01-01</td>\n",
       "      <td>62.83</td>\n",
       "      <td>2.0</td>\n",
       "      <td>2.544333</td>\n",
       "    </tr>\n",
       "    <tr>\n",
       "      <th>336750</th>\n",
       "      <td>2_208</td>\n",
       "      <td>2021-08-01 16:13:45.052960</td>\n",
       "      <td>s_70014</td>\n",
       "      <td>c_3158</td>\n",
       "      <td>f</td>\n",
       "      <td>1998-01-01</td>\n",
       "      <td>54.87</td>\n",
       "      <td>2.0</td>\n",
       "      <td>2.098710</td>\n",
       "    </tr>\n",
       "    <tr>\n",
       "      <th>336772</th>\n",
       "      <td>1_297</td>\n",
       "      <td>2022-01-29 00:51:38.850075</td>\n",
       "      <td>s_156672</td>\n",
       "      <td>c_592</td>\n",
       "      <td>f</td>\n",
       "      <td>1982-01-01</td>\n",
       "      <td>56.99</td>\n",
       "      <td>1.0</td>\n",
       "      <td>2.217394</td>\n",
       "    </tr>\n",
       "    <tr>\n",
       "      <th>336869</th>\n",
       "      <td>2_224</td>\n",
       "      <td>2021-06-18 10:49:10.960641</td>\n",
       "      <td>s_50302</td>\n",
       "      <td>c_4958</td>\n",
       "      <td>m</td>\n",
       "      <td>1999-01-01</td>\n",
       "      <td>87.40</td>\n",
       "      <td>2.0</td>\n",
       "      <td>3.919827</td>\n",
       "    </tr>\n",
       "    <tr>\n",
       "      <th>336874</th>\n",
       "      <td>2_147</td>\n",
       "      <td>2021-03-22 23:59:52.476912</td>\n",
       "      <td>s_10118</td>\n",
       "      <td>c_998</td>\n",
       "      <td>m</td>\n",
       "      <td>2001-01-01</td>\n",
       "      <td>181.99</td>\n",
       "      <td>2.0</td>\n",
       "      <td>9.215230</td>\n",
       "    </tr>\n",
       "  </tbody>\n",
       "</table>\n",
       "<p>13070 rows × 9 columns</p>\n",
       "</div>"
      ],
      "text/plain": [
       "       id_prod                       date session_id client_id sex      birth  \\\n",
       "1        2_226 2022-02-03 01:55:53.276402   s_159142     c_277   f 2000-01-01   \n",
       "27       2_135 2021-05-26 01:46:59.530702    s_39581    c_5192   m 1965-01-01   \n",
       "73       2_208 2021-08-21 21:58:40.983725    s_78917    c_7881   m 1996-01-01   \n",
       "111      2_139 2022-01-16 13:39:40.278930   s_150675    c_8517   f 2000-01-01   \n",
       "132       2_62 2021-08-28 05:50:46.906391    s_81697    c_7806   f 1994-01-01   \n",
       "...        ...                        ...        ...       ...  ..        ...   \n",
       "336732   2_160 2021-04-03 20:56:24.950063    s_15576    c_7011   f 1996-01-01   \n",
       "336750   2_208 2021-08-01 16:13:45.052960    s_70014    c_3158   f 1998-01-01   \n",
       "336772   1_297 2022-01-29 00:51:38.850075   s_156672     c_592   f 1982-01-01   \n",
       "336869   2_224 2021-06-18 10:49:10.960641    s_50302    c_4958   m 1999-01-01   \n",
       "336874   2_147 2021-03-22 23:59:52.476912    s_10118     c_998   m 2001-01-01   \n",
       "\n",
       "         price  categ    zscore  \n",
       "1        65.75    2.0  2.707802  \n",
       "27       68.99    2.0  2.889186  \n",
       "73       54.87    2.0  2.098710  \n",
       "111      82.99    2.0  3.672944  \n",
       "132      60.96    2.0  2.439645  \n",
       "...        ...    ...       ...  \n",
       "336732   62.83    2.0  2.544333  \n",
       "336750   54.87    2.0  2.098710  \n",
       "336772   56.99    1.0  2.217394  \n",
       "336869   87.40    2.0  3.919827  \n",
       "336874  181.99    2.0  9.215230  \n",
       "\n",
       "[13070 rows x 9 columns]"
      ]
     },
     "execution_count": 97,
     "metadata": {},
     "output_type": "execute_result"
    }
   ],
   "source": [
    "from scipy.stats import zscore\n",
    "merged[\"zscore\"] = merged[\"price\"].pipe(zscore)\n",
    "zscore_outliers = merged[merged[\"zscore\"].abs() > 2]\n",
    "zscore_outliers"
   ]
  },
  {
   "cell_type": "markdown",
   "metadata": {},
   "source": [
    "## Interquartile"
   ]
  },
  {
   "cell_type": "code",
   "execution_count": 98,
   "metadata": {},
   "outputs": [
    {
     "data": {
      "text/plain": [
       "(-6.084999999999999, 34.114999999999995)"
      ]
     },
     "execution_count": 98,
     "metadata": {},
     "output_type": "execute_result"
    }
   ],
   "source": [
    "q1, q3 = np.percentile(merged[\"price\"], [25, 75])\n",
    "iqr = q3 - q1\n",
    "\n",
    "lower_range = q1 - (1.5 * iqr)\n",
    "upper_range = q3 + (1.5 * iqr)\n",
    "\n",
    "lower_range, upper_range"
   ]
  },
  {
   "cell_type": "code",
   "execution_count": 99,
   "metadata": {},
   "outputs": [
    {
     "data": {
      "image/png": "[encoded data removed]",
      "text/plain": [
       "<Figure size 640x480 with 1 Axes>"
      ]
     },
     "metadata": {},
     "output_type": "display_data"
    }
   ],
   "source": [
    "interquartile_outliers = merged[(merged[\"price\"] < lower_range) | (merged[\"price\"] > upper_range)]\n",
    "scatter_with_outliers(\n",
    "  x=merged.index,\n",
    "  y=merged[\"price\"],\n",
    "  outliers_x=interquartile_outliers.index,\n",
    "  outliers_y=interquartile_outliers[\"price\"]\n",
    ")"
   ]
  },
  {
   "cell_type": "markdown",
   "metadata": {},
   "source": [
    "## Clustering"
   ]
  },
  {
   "cell_type": "code",
   "execution_count": 100,
   "metadata": {},
   "outputs": [],
   "source": [
    "from sklearn.ensemble import IsolationForest\n",
    "from sklearn.preprocessing import StandardScaler"
   ]
  },
  {
   "cell_type": "code",
   "execution_count": 101,
   "metadata": {},
   "outputs": [],
   "source": [
    "scaler = StandardScaler()\n",
    "scaled = scaler.fit_transform(merged[[\"price\"]])\n",
    "# train isolation forest\n",
    "model =  IsolationForest(contamination=10e-4)\n",
    "clustering_outliers = merged.iloc[np.where(model.fit_predict(scaled) == -1)]"
   ]
  },
  {
   "cell_type": "code",
   "execution_count": 102,
   "metadata": {},
   "outputs": [
    {
     "data": {
      "image/png": "[encoded data removed]",
      "text/plain": [
       "<Figure size 640x480 with 1 Axes>"
      ]
     },
     "metadata": {},
     "output_type": "display_data"
    }
   ],
   "source": [
    "scatter_with_outliers(\n",
    "  x=merged.index,\n",
    "  y=merged[\"price\"],\n",
    "  outliers_x=clustering_outliers.index,\n",
    "  outliers_y=clustering_outliers[\"price\"]\n",
    ")"
   ]
  },
  {
   "cell_type": "markdown",
   "metadata": {},
   "source": [
    "# Scatter plot with the eye"
   ]
  },
  {
   "cell_type": "code",
   "execution_count": 103,
   "metadata": {},
   "outputs": [
    {
     "data": {
      "image/png": "[encoded data removed]",
      "text/plain": [
       "<Figure size 640x480 with 1 Axes>"
      ]
     },
     "metadata": {},
     "output_type": "display_data"
    }
   ],
   "source": [
    "scatter_with_outliers(x=merged.index, y=merged[\"price\"], outliers_y=290, type=\"htresh\")"
   ]
  },
  {
   "cell_type": "markdown",
   "metadata": {},
   "source": [
    "# Box plot"
   ]
  },
  {
   "cell_type": "code",
   "execution_count": 104,
   "metadata": {},
   "outputs": [
    {
     "data": {
      "image/png": "[encoded data removed]",
      "text/plain": [
       "<Figure size 1200x400 with 1 Axes>"
      ]
     },
     "metadata": {},
     "output_type": "display_data"
    }
   ],
   "source": [
    "plt.figure(figsize=(12, 4))\n",
    "sns.boxplot(x=merged[\"price\"])\n",
    "plt.show()"
   ]
  },
  {
   "cell_type": "markdown",
   "metadata": {},
   "source": [
    "We decide to remove outliers from the clustering method"
   ]
  },
  {
   "cell_type": "code",
   "execution_count": 105,
   "metadata": {},
   "outputs": [],
   "source": [
    "merged.drop(clustering_outliers.index, inplace=True)"
   ]
  },
  {
   "cell_type": "markdown",
   "metadata": {},
   "source": [
    "# Data analysis"
   ]
  },
  {
   "cell_type": "code",
   "execution_count": 106,
   "metadata": {},
   "outputs": [
    {
     "data": {
      "image/png": "[encoded data removed]",
      "text/plain": [
       "<Figure size 640x480 with 2 Axes>"
      ]
     },
     "metadata": {},
     "output_type": "display_data"
    }
   ],
   "source": [
    "corr = merged[[\"birth\", \"price\", \"categ\"]].corr(numeric_only=False)\n",
    "sns.heatmap(corr, mask=corr_mask(corr.shape), annot=True, square=True, cmap=\"GnBu\")\n",
    "plt.show()"
   ]
  },
  {
   "cell_type": "markdown",
   "metadata": {},
   "source": [
    "We can see that the variables \"categ\" and \"price\" are strongly correlated which means that the \"categ\" variable correspond to price ranges. Let's check :"
   ]
  },
  {
   "cell_type": "code",
   "execution_count": 107,
   "metadata": {},
   "outputs": [
    {
     "data": {
      "text/plain": [
       "['Category 0.0 : 10.649107253046068',\n",
       " 'Category 2.0 : 72.36952625712162',\n",
       " 'Category 1.0 : 20.485778749388903']"
      ]
     },
     "execution_count": 107,
     "metadata": {},
     "output_type": "execute_result"
    }
   ],
   "source": [
    "# with mean compute\n",
    "[\n",
    "  f\"Category {c} : {merged[merged['categ'] == c]['price'].mean()}\"\n",
    "  for c in merged[\"categ\"].unique()\n",
    "]"
   ]
  },
  {
   "cell_type": "code",
   "execution_count": 108,
   "metadata": {},
   "outputs": [
    {
     "data": {
      "image/png": "[encoded data removed]",
      "text/plain": [
       "<Figure size 1200x400 with 1 Axes>"
      ]
     },
     "metadata": {},
     "output_type": "display_data"
    }
   ],
   "source": [
    "# with visualization\n",
    "plt.figure(figsize=(12, 4))\n",
    "sns.boxplot(data=merged, x=\"price\", y=\"categ\", orient=\"h\", showfliers=False)\n",
    "plt.title(\"Price per categories distribution\")\n",
    "plt.show()"
   ]
  },
  {
   "cell_type": "markdown",
   "metadata": {},
   "source": [
    "## Create new variables from existing"
   ]
  },
  {
   "cell_type": "code",
   "execution_count": 109,
   "metadata": {},
   "outputs": [],
   "source": [
    "merged[\"datetime\"] = merged[\"date\"]\n",
    "merged[\"date\"] = merged[\"datetime\"].dt.date\n",
    "merged[\"month\"] = merged[\"datetime\"]"
   ]
  },
  {
   "cell_type": "code",
   "execution_count": 110,
   "metadata": {},
   "outputs": [
    {
     "data": {
      "text/html": [
       "<div>\n",
       "<style scoped>\n",
       "    .dataframe tbody tr th:only-of-type {\n",
       "        vertical-align: middle;\n",
       "    }\n",
       "\n",
       "    .dataframe tbody tr th {\n",
       "        vertical-align: top;\n",
       "    }\n",
       "\n",
       "    .dataframe thead th {\n",
       "        text-align: right;\n",
       "    }\n",
       "</style>\n",
       "<table border=\"1\" class=\"dataframe\">\n",
       "  <thead>\n",
       "    <tr style=\"text-align: right;\">\n",
       "      <th></th>\n",
       "      <th>id_prod</th>\n",
       "      <th>date</th>\n",
       "      <th>session_id</th>\n",
       "      <th>client_id</th>\n",
       "      <th>sex</th>\n",
       "      <th>birth</th>\n",
       "      <th>price</th>\n",
       "      <th>categ</th>\n",
       "      <th>zscore</th>\n",
       "      <th>datetime</th>\n",
       "      <th>month</th>\n",
       "    </tr>\n",
       "  </thead>\n",
       "  <tbody>\n",
       "    <tr>\n",
       "      <th>0</th>\n",
       "      <td>0_1483</td>\n",
       "      <td>2021-04-10</td>\n",
       "      <td>s_18746</td>\n",
       "      <td>c_4450</td>\n",
       "      <td>f</td>\n",
       "      <td>1977-01-01</td>\n",
       "      <td>4.99</td>\n",
       "      <td>0.0</td>\n",
       "      <td>-0.693706</td>\n",
       "      <td>2021-04-10 18:37:28.723910</td>\n",
       "      <td>2021-04-10 18:37:28.723910</td>\n",
       "    </tr>\n",
       "    <tr>\n",
       "      <th>1</th>\n",
       "      <td>2_226</td>\n",
       "      <td>2022-02-03</td>\n",
       "      <td>s_159142</td>\n",
       "      <td>c_277</td>\n",
       "      <td>f</td>\n",
       "      <td>2000-01-01</td>\n",
       "      <td>65.75</td>\n",
       "      <td>2.0</td>\n",
       "      <td>2.707802</td>\n",
       "      <td>2022-02-03 01:55:53.276402</td>\n",
       "      <td>2022-02-03 01:55:53.276402</td>\n",
       "    </tr>\n",
       "    <tr>\n",
       "      <th>2</th>\n",
       "      <td>1_374</td>\n",
       "      <td>2021-09-23</td>\n",
       "      <td>s_94290</td>\n",
       "      <td>c_4270</td>\n",
       "      <td>f</td>\n",
       "      <td>1979-01-01</td>\n",
       "      <td>10.71</td>\n",
       "      <td>1.0</td>\n",
       "      <td>-0.373485</td>\n",
       "      <td>2021-09-23 15:13:46.938559</td>\n",
       "      <td>2021-09-23 15:13:46.938559</td>\n",
       "    </tr>\n",
       "    <tr>\n",
       "      <th>4</th>\n",
       "      <td>0_1351</td>\n",
       "      <td>2021-07-17</td>\n",
       "      <td>s_63642</td>\n",
       "      <td>c_1242</td>\n",
       "      <td>f</td>\n",
       "      <td>1980-01-01</td>\n",
       "      <td>8.99</td>\n",
       "      <td>0.0</td>\n",
       "      <td>-0.469776</td>\n",
       "      <td>2021-07-17 20:34:25.800563</td>\n",
       "      <td>2021-07-17 20:34:25.800563</td>\n",
       "    </tr>\n",
       "    <tr>\n",
       "      <th>5</th>\n",
       "      <td>0_1085</td>\n",
       "      <td>2021-09-15</td>\n",
       "      <td>s_90139</td>\n",
       "      <td>c_2526</td>\n",
       "      <td>f</td>\n",
       "      <td>1982-01-01</td>\n",
       "      <td>3.99</td>\n",
       "      <td>0.0</td>\n",
       "      <td>-0.749689</td>\n",
       "      <td>2021-09-15 05:47:48.215162</td>\n",
       "      <td>2021-09-15 05:47:48.215162</td>\n",
       "    </tr>\n",
       "    <tr>\n",
       "      <th>...</th>\n",
       "      <td>...</td>\n",
       "      <td>...</td>\n",
       "      <td>...</td>\n",
       "      <td>...</td>\n",
       "      <td>...</td>\n",
       "      <td>...</td>\n",
       "      <td>...</td>\n",
       "      <td>...</td>\n",
       "      <td>...</td>\n",
       "      <td>...</td>\n",
       "      <td>...</td>\n",
       "    </tr>\n",
       "    <tr>\n",
       "      <th>336884</th>\n",
       "      <td>1_498</td>\n",
       "      <td>2022-02-03</td>\n",
       "      <td>s_159138</td>\n",
       "      <td>c_1857</td>\n",
       "      <td>f</td>\n",
       "      <td>1990-01-01</td>\n",
       "      <td>23.37</td>\n",
       "      <td>1.0</td>\n",
       "      <td>0.335255</td>\n",
       "      <td>2022-02-03 01:39:15.793010</td>\n",
       "      <td>2022-02-03 01:39:15.793010</td>\n",
       "    </tr>\n",
       "    <tr>\n",
       "      <th>336885</th>\n",
       "      <td>1_671</td>\n",
       "      <td>2021-05-28</td>\n",
       "      <td>s_40720</td>\n",
       "      <td>c_3454</td>\n",
       "      <td>m</td>\n",
       "      <td>1969-01-01</td>\n",
       "      <td>31.99</td>\n",
       "      <td>1.0</td>\n",
       "      <td>0.817826</td>\n",
       "      <td>2021-05-28 12:35:46.214839</td>\n",
       "      <td>2021-05-28 12:35:46.214839</td>\n",
       "    </tr>\n",
       "    <tr>\n",
       "      <th>336886</th>\n",
       "      <td>0_759</td>\n",
       "      <td>2021-06-19</td>\n",
       "      <td>s_50568</td>\n",
       "      <td>c_6268</td>\n",
       "      <td>m</td>\n",
       "      <td>1991-01-01</td>\n",
       "      <td>22.99</td>\n",
       "      <td>0.0</td>\n",
       "      <td>0.313982</td>\n",
       "      <td>2021-06-19 00:19:23.917703</td>\n",
       "      <td>2021-06-19 00:19:23.917703</td>\n",
       "    </tr>\n",
       "    <tr>\n",
       "      <th>336887</th>\n",
       "      <td>0_1256</td>\n",
       "      <td>2021-03-16</td>\n",
       "      <td>s_7219</td>\n",
       "      <td>c_4137</td>\n",
       "      <td>f</td>\n",
       "      <td>1968-01-01</td>\n",
       "      <td>11.03</td>\n",
       "      <td>0.0</td>\n",
       "      <td>-0.355571</td>\n",
       "      <td>2021-03-16 17:31:59.442007</td>\n",
       "      <td>2021-03-16 17:31:59.442007</td>\n",
       "    </tr>\n",
       "    <tr>\n",
       "      <th>336889</th>\n",
       "      <td>0_1417</td>\n",
       "      <td>2021-06-26</td>\n",
       "      <td>s_54117</td>\n",
       "      <td>c_6714</td>\n",
       "      <td>f</td>\n",
       "      <td>1968-01-01</td>\n",
       "      <td>17.99</td>\n",
       "      <td>0.0</td>\n",
       "      <td>0.034069</td>\n",
       "      <td>2021-06-26 14:38:19.732946</td>\n",
       "      <td>2021-06-26 14:38:19.732946</td>\n",
       "    </tr>\n",
       "  </tbody>\n",
       "</table>\n",
       "<p>315789 rows × 11 columns</p>\n",
       "</div>"
      ],
      "text/plain": [
       "       id_prod        date session_id client_id sex      birth  price  categ  \\\n",
       "0       0_1483  2021-04-10    s_18746    c_4450   f 1977-01-01   4.99    0.0   \n",
       "1        2_226  2022-02-03   s_159142     c_277   f 2000-01-01  65.75    2.0   \n",
       "2        1_374  2021-09-23    s_94290    c_4270   f 1979-01-01  10.71    1.0   \n",
       "4       0_1351  2021-07-17    s_63642    c_1242   f 1980-01-01   8.99    0.0   \n",
       "5       0_1085  2021-09-15    s_90139    c_2526   f 1982-01-01   3.99    0.0   \n",
       "...        ...         ...        ...       ...  ..        ...    ...    ...   \n",
       "336884   1_498  2022-02-03   s_159138    c_1857   f 1990-01-01  23.37    1.0   \n",
       "336885   1_671  2021-05-28    s_40720    c_3454   m 1969-01-01  31.99    1.0   \n",
       "336886   0_759  2021-06-19    s_50568    c_6268   m 1991-01-01  22.99    0.0   \n",
       "336887  0_1256  2021-03-16     s_7219    c_4137   f 1968-01-01  11.03    0.0   \n",
       "336889  0_1417  2021-06-26    s_54117    c_6714   f 1968-01-01  17.99    0.0   \n",
       "\n",
       "          zscore                   datetime                      month  \n",
       "0      -0.693706 2021-04-10 18:37:28.723910 2021-04-10 18:37:28.723910  \n",
       "1       2.707802 2022-02-03 01:55:53.276402 2022-02-03 01:55:53.276402  \n",
       "2      -0.373485 2021-09-23 15:13:46.938559 2021-09-23 15:13:46.938559  \n",
       "4      -0.469776 2021-07-17 20:34:25.800563 2021-07-17 20:34:25.800563  \n",
       "5      -0.749689 2021-09-15 05:47:48.215162 2021-09-15 05:47:48.215162  \n",
       "...          ...                        ...                        ...  \n",
       "336884  0.335255 2022-02-03 01:39:15.793010 2022-02-03 01:39:15.793010  \n",
       "336885  0.817826 2021-05-28 12:35:46.214839 2021-05-28 12:35:46.214839  \n",
       "336886  0.313982 2021-06-19 00:19:23.917703 2021-06-19 00:19:23.917703  \n",
       "336887 -0.355571 2021-03-16 17:31:59.442007 2021-03-16 17:31:59.442007  \n",
       "336889  0.034069 2021-06-26 14:38:19.732946 2021-06-26 14:38:19.732946  \n",
       "\n",
       "[315789 rows x 11 columns]"
      ]
     },
     "execution_count": 110,
     "metadata": {},
     "output_type": "execute_result"
    }
   ],
   "source": [
    "merged"
   ]
  },
  {
   "cell_type": "code",
   "execution_count": 111,
   "metadata": {},
   "outputs": [
    {
     "name": "stderr",
     "output_type": "stream",
     "text": [
      "/var/folders/vj/r3vng6ks67sclkp5wn81gzt40000gn/T/ipykernel_77870/2950288198.py:1: FutureWarning: The default value of numeric_only in DataFrameGroupBy.mean is deprecated. In a future version, numeric_only will default to False. Either specify numeric_only or select only columns which should be valid for the function.\n",
      "  merged.pivot_table(index=[\"client_id\", \"date\"]).reset_index().pivot_table(index=\"client_id\").reset_index().rename(columns={\"price\": \"panier_moyen\"})\n",
      "/var/folders/vj/r3vng6ks67sclkp5wn81gzt40000gn/T/ipykernel_77870/2950288198.py:1: FutureWarning: The default value of numeric_only in DataFrameGroupBy.mean is deprecated. In a future version, numeric_only will default to False. Either specify numeric_only or select only columns which should be valid for the function.\n",
      "  merged.pivot_table(index=[\"client_id\", \"date\"]).reset_index().pivot_table(index=\"client_id\").reset_index().rename(columns={\"price\": \"panier_moyen\"})\n"
     ]
    },
    {
     "data": {
      "text/html": [
       "<div>\n",
       "<style scoped>\n",
       "    .dataframe tbody tr th:only-of-type {\n",
       "        vertical-align: middle;\n",
       "    }\n",
       "\n",
       "    .dataframe tbody tr th {\n",
       "        vertical-align: top;\n",
       "    }\n",
       "\n",
       "    .dataframe thead th {\n",
       "        text-align: right;\n",
       "    }\n",
       "</style>\n",
       "<table border=\"1\" class=\"dataframe\">\n",
       "  <thead>\n",
       "    <tr style=\"text-align: right;\">\n",
       "      <th></th>\n",
       "      <th>client_id</th>\n",
       "      <th>categ</th>\n",
       "      <th>panier_moyen</th>\n",
       "      <th>zscore</th>\n",
       "    </tr>\n",
       "  </thead>\n",
       "  <tbody>\n",
       "    <tr>\n",
       "      <th>0</th>\n",
       "      <td>c_1</td>\n",
       "      <td>0.242857</td>\n",
       "      <td>14.029929</td>\n",
       "      <td>-0.187627</td>\n",
       "    </tr>\n",
       "    <tr>\n",
       "      <th>1</th>\n",
       "      <td>c_10</td>\n",
       "      <td>0.693750</td>\n",
       "      <td>21.399156</td>\n",
       "      <td>0.224922</td>\n",
       "    </tr>\n",
       "    <tr>\n",
       "      <th>2</th>\n",
       "      <td>c_100</td>\n",
       "      <td>0.944444</td>\n",
       "      <td>36.678889</td>\n",
       "      <td>1.080323</td>\n",
       "    </tr>\n",
       "    <tr>\n",
       "      <th>3</th>\n",
       "      <td>c_1000</td>\n",
       "      <td>0.576577</td>\n",
       "      <td>17.024392</td>\n",
       "      <td>-0.019989</td>\n",
       "    </tr>\n",
       "    <tr>\n",
       "      <th>4</th>\n",
       "      <td>c_1001</td>\n",
       "      <td>0.295000</td>\n",
       "      <td>13.478358</td>\n",
       "      <td>-0.218505</td>\n",
       "    </tr>\n",
       "    <tr>\n",
       "      <th>...</th>\n",
       "      <td>...</td>\n",
       "      <td>...</td>\n",
       "      <td>...</td>\n",
       "      <td>...</td>\n",
       "    </tr>\n",
       "    <tr>\n",
       "      <th>8593</th>\n",
       "      <td>c_995</td>\n",
       "      <td>0.400000</td>\n",
       "      <td>15.906000</td>\n",
       "      <td>-0.082599</td>\n",
       "    </tr>\n",
       "    <tr>\n",
       "      <th>8594</th>\n",
       "      <td>c_996</td>\n",
       "      <td>0.607843</td>\n",
       "      <td>17.341814</td>\n",
       "      <td>-0.002219</td>\n",
       "    </tr>\n",
       "    <tr>\n",
       "      <th>8595</th>\n",
       "      <td>c_997</td>\n",
       "      <td>0.953704</td>\n",
       "      <td>28.485741</td>\n",
       "      <td>0.621648</td>\n",
       "    </tr>\n",
       "    <tr>\n",
       "      <th>8596</th>\n",
       "      <td>c_998</td>\n",
       "      <td>1.606838</td>\n",
       "      <td>67.085128</td>\n",
       "      <td>2.782546</td>\n",
       "    </tr>\n",
       "    <tr>\n",
       "      <th>8597</th>\n",
       "      <td>c_999</td>\n",
       "      <td>0.526316</td>\n",
       "      <td>13.791579</td>\n",
       "      <td>-0.200970</td>\n",
       "    </tr>\n",
       "  </tbody>\n",
       "</table>\n",
       "<p>8598 rows × 4 columns</p>\n",
       "</div>"
      ],
      "text/plain": [
       "     client_id     categ  panier_moyen    zscore\n",
       "0          c_1  0.242857     14.029929 -0.187627\n",
       "1         c_10  0.693750     21.399156  0.224922\n",
       "2        c_100  0.944444     36.678889  1.080323\n",
       "3       c_1000  0.576577     17.024392 -0.019989\n",
       "4       c_1001  0.295000     13.478358 -0.218505\n",
       "...        ...       ...           ...       ...\n",
       "8593     c_995  0.400000     15.906000 -0.082599\n",
       "8594     c_996  0.607843     17.341814 -0.002219\n",
       "8595     c_997  0.953704     28.485741  0.621648\n",
       "8596     c_998  1.606838     67.085128  2.782546\n",
       "8597     c_999  0.526316     13.791579 -0.200970\n",
       "\n",
       "[8598 rows x 4 columns]"
      ]
     },
     "execution_count": 111,
     "metadata": {},
     "output_type": "execute_result"
    }
   ],
   "source": [
    "merged.pivot_table(index=[\"client_id\", \"date\"]).reset_index().pivot_table(index=\"client_id\").reset_index().rename(columns={\"price\": \"panier_moyen\"})"
   ]
  },
  {
   "cell_type": "code",
   "execution_count": 112,
   "metadata": {},
   "outputs": [
    {
     "name": "stderr",
     "output_type": "stream",
     "text": [
      "/var/folders/vj/r3vng6ks67sclkp5wn81gzt40000gn/T/ipykernel_77870/2301902892.py:17: FutureWarning: The default value of numeric_only in DataFrameGroupBy.mean is deprecated. In a future version, numeric_only will default to False. Either specify numeric_only or select only columns which should be valid for the function.\n",
      "  merged.pivot_table(\n",
      "/var/folders/vj/r3vng6ks67sclkp5wn81gzt40000gn/T/ipykernel_77870/2301902892.py:47: SettingWithCopyWarning: \n",
      "A value is trying to be set on a copy of a slice from a DataFrame\n",
      "\n",
      "See the caveats in the documentation: https://pandas.pydata.org/pandas-docs/stable/user_guide/indexing.html#returning-a-view-versus-a-copy\n",
      "  merged[\"age_classe\"].loc[merged[merged[\"age\"]>=30].index] = 1\n",
      "/var/folders/vj/r3vng6ks67sclkp5wn81gzt40000gn/T/ipykernel_77870/2301902892.py:48: SettingWithCopyWarning: \n",
      "A value is trying to be set on a copy of a slice from a DataFrame\n",
      "\n",
      "See the caveats in the documentation: https://pandas.pydata.org/pandas-docs/stable/user_guide/indexing.html#returning-a-view-versus-a-copy\n",
      "  merged[\"age_classe\"].loc[merged[merged[\"age\"]>=40].index] = 2\n",
      "/var/folders/vj/r3vng6ks67sclkp5wn81gzt40000gn/T/ipykernel_77870/2301902892.py:49: SettingWithCopyWarning: \n",
      "A value is trying to be set on a copy of a slice from a DataFrame\n",
      "\n",
      "See the caveats in the documentation: https://pandas.pydata.org/pandas-docs/stable/user_guide/indexing.html#returning-a-view-versus-a-copy\n",
      "  merged[\"age_classe\"].loc[merged[merged[\"age\"]>=50].index] = 3\n",
      "/var/folders/vj/r3vng6ks67sclkp5wn81gzt40000gn/T/ipykernel_77870/2301902892.py:50: SettingWithCopyWarning: \n",
      "A value is trying to be set on a copy of a slice from a DataFrame\n",
      "\n",
      "See the caveats in the documentation: https://pandas.pydata.org/pandas-docs/stable/user_guide/indexing.html#returning-a-view-versus-a-copy\n",
      "  merged[\"age_classe\"].loc[merged[merged[\"age\"]>=60].index] = 4\n",
      "/var/folders/vj/r3vng6ks67sclkp5wn81gzt40000gn/T/ipykernel_77870/2301902892.py:51: SettingWithCopyWarning: \n",
      "A value is trying to be set on a copy of a slice from a DataFrame\n",
      "\n",
      "See the caveats in the documentation: https://pandas.pydata.org/pandas-docs/stable/user_guide/indexing.html#returning-a-view-versus-a-copy\n",
      "  merged[\"age_classe\"].loc[merged[merged[\"age\"]>=70].index] = 5\n",
      "/var/folders/vj/r3vng6ks67sclkp5wn81gzt40000gn/T/ipykernel_77870/2301902892.py:52: SettingWithCopyWarning: \n",
      "A value is trying to be set on a copy of a slice from a DataFrame\n",
      "\n",
      "See the caveats in the documentation: https://pandas.pydata.org/pandas-docs/stable/user_guide/indexing.html#returning-a-view-versus-a-copy\n",
      "  merged[\"age_classe\"].loc[merged[merged[\"age\"]>=80].index] = 6\n"
     ]
    },
    {
     "data": {
      "text/html": [
       "<div>\n",
       "<style scoped>\n",
       "    .dataframe tbody tr th:only-of-type {\n",
       "        vertical-align: middle;\n",
       "    }\n",
       "\n",
       "    .dataframe tbody tr th {\n",
       "        vertical-align: top;\n",
       "    }\n",
       "\n",
       "    .dataframe thead th {\n",
       "        text-align: right;\n",
       "    }\n",
       "</style>\n",
       "<table border=\"1\" class=\"dataframe\">\n",
       "  <thead>\n",
       "    <tr style=\"text-align: right;\">\n",
       "      <th></th>\n",
       "      <th>id_prod</th>\n",
       "      <th>session_id</th>\n",
       "      <th>client_id</th>\n",
       "      <th>sex</th>\n",
       "      <th>birth</th>\n",
       "      <th>price</th>\n",
       "      <th>categ</th>\n",
       "      <th>zscore</th>\n",
       "      <th>datetime</th>\n",
       "      <th>month</th>\n",
       "      <th>total_sales</th>\n",
       "      <th>average_basket</th>\n",
       "      <th>age</th>\n",
       "      <th>age_classe</th>\n",
       "    </tr>\n",
       "  </thead>\n",
       "  <tbody>\n",
       "    <tr>\n",
       "      <th>242686</th>\n",
       "      <td>0_1039</td>\n",
       "      <td>s_84399</td>\n",
       "      <td>c_4057</td>\n",
       "      <td>m</td>\n",
       "      <td>1981-01-01</td>\n",
       "      <td>11.99</td>\n",
       "      <td>0.0</td>\n",
       "      <td>-0.301828</td>\n",
       "      <td>2021-09-03 07:26:35.667497</td>\n",
       "      <td>2021-09-03 07:26:35.667497</td>\n",
       "      <td>104</td>\n",
       "      <td>12.820341</td>\n",
       "      <td>41</td>\n",
       "      <td>2</td>\n",
       "    </tr>\n",
       "    <tr>\n",
       "      <th>239432</th>\n",
       "      <td>0_881</td>\n",
       "      <td>s_18615</td>\n",
       "      <td>c_406</td>\n",
       "      <td>m</td>\n",
       "      <td>1972-01-01</td>\n",
       "      <td>18.99</td>\n",
       "      <td>0.0</td>\n",
       "      <td>0.090051</td>\n",
       "      <td>2021-04-10 11:52:59.568386</td>\n",
       "      <td>2021-04-10 11:52:59.568386</td>\n",
       "      <td>23</td>\n",
       "      <td>14.615704</td>\n",
       "      <td>50</td>\n",
       "      <td>3</td>\n",
       "    </tr>\n",
       "    <tr>\n",
       "      <th>192451</th>\n",
       "      <td>1_710</td>\n",
       "      <td>s_12409</td>\n",
       "      <td>c_3463</td>\n",
       "      <td>m</td>\n",
       "      <td>1995-01-01</td>\n",
       "      <td>27.94</td>\n",
       "      <td>1.0</td>\n",
       "      <td>0.591096</td>\n",
       "      <td>2021-03-28 00:43:28.803832</td>\n",
       "      <td>2021-03-28 00:43:28.803832</td>\n",
       "      <td>22</td>\n",
       "      <td>39.543958</td>\n",
       "      <td>27</td>\n",
       "      <td>0</td>\n",
       "    </tr>\n",
       "  </tbody>\n",
       "</table>\n",
       "</div>"
      ],
      "text/plain": [
       "       id_prod session_id client_id sex      birth  price  categ    zscore  \\\n",
       "242686  0_1039    s_84399    c_4057   m 1981-01-01  11.99    0.0 -0.301828   \n",
       "239432   0_881    s_18615     c_406   m 1972-01-01  18.99    0.0  0.090051   \n",
       "192451   1_710    s_12409    c_3463   m 1995-01-01  27.94    1.0  0.591096   \n",
       "\n",
       "                         datetime                      month  total_sales  \\\n",
       "242686 2021-09-03 07:26:35.667497 2021-09-03 07:26:35.667497          104   \n",
       "239432 2021-04-10 11:52:59.568386 2021-04-10 11:52:59.568386           23   \n",
       "192451 2021-03-28 00:43:28.803832 2021-03-28 00:43:28.803832           22   \n",
       "\n",
       "        average_basket  age  age_classe  \n",
       "242686       12.820341   41           2  \n",
       "239432       14.615704   50           3  \n",
       "192451       39.543958   27           0  "
      ]
     },
     "execution_count": 112,
     "metadata": {},
     "output_type": "execute_result"
    }
   ],
   "source": [
    "# total sales\n",
    "if not \"total_sales\" in merged.columns:\n",
    "  merged = merged.merge(\n",
    "    (merged[[\"client_id\", \"date\"]]\n",
    "      .groupby(\"client_id\")\n",
    "      .count()[\"date\"]\n",
    "      .reset_index()\n",
    "      .rename({\"date\": \"total_sales\"}, axis=1)\n",
    "    ),\n",
    "    how=\"left\",\n",
    "    on=\"client_id\"\n",
    "  )\n",
    "\n",
    "# average basket\n",
    "if not \"average_basket\" in merged.columns:\n",
    "  merged = merged.merge(\n",
    "    merged.pivot_table(\n",
    "      index=[\"client_id\", \"date\"],\n",
    "      values=\"price\",\n",
    "      aggfunc=\"mean\"\n",
    "    ).reset_index().pivot_table(\n",
    "      index=\"client_id\",\n",
    "      aggfunc=\"mean\"\n",
    "    ).reset_index().rename(\n",
    "      columns={\"price\": \"average_basket\"}\n",
    "    ), \n",
    "    on=\"client_id\",\n",
    "    how=\"left\"\n",
    "  ).drop(\"date\", axis=1)\n",
    "\n",
    "if not \"age\" in merged.columns:\n",
    "  from datetime import datetime\n",
    "  year = datetime.now().year\n",
    "  merged[\"age\"] = year - merged[\"birth\"].dt.year\n",
    "\n",
    "if not \"age_classe\" in merged.columns:\n",
    "  age_classe_mapper = {\n",
    "    0: \"18-30\",\n",
    "    1: \"30-40\",\n",
    "    2: \"40-50\",\n",
    "    3: \"50-60\",\n",
    "    4: \"60-70\",\n",
    "    5: \"70-80\",\n",
    "    6: \"80 et +\"\n",
    "  }\n",
    "  merged[\"age_classe\"] = 0\n",
    "  merged[\"age_classe\"].loc[merged[merged[\"age\"]>=30].index] = 1\n",
    "  merged[\"age_classe\"].loc[merged[merged[\"age\"]>=40].index] = 2\n",
    "  merged[\"age_classe\"].loc[merged[merged[\"age\"]>=50].index] = 3\n",
    "  merged[\"age_classe\"].loc[merged[merged[\"age\"]>=60].index] = 4\n",
    "  merged[\"age_classe\"].loc[merged[merged[\"age\"]>=70].index] = 5\n",
    "  merged[\"age_classe\"].loc[merged[merged[\"age\"]>=80].index] = 6\n",
    "\n",
    "merged.sample(3)"
   ]
  },
  {
   "cell_type": "markdown",
   "metadata": {},
   "source": [
    "## Lorenz & Gini curve"
   ]
  },
  {
   "cell_type": "code",
   "execution_count": 113,
   "metadata": {},
   "outputs": [
    {
     "name": "stderr",
     "output_type": "stream",
     "text": [
      "/var/folders/vj/r3vng6ks67sclkp5wn81gzt40000gn/T/ipykernel_77870/2164063527.py:2: FutureWarning: The default value of numeric_only in DataFrameGroupBy.mean is deprecated. In a future version, numeric_only will default to False. Either specify numeric_only or select only columns which should be valid for the function.\n",
      "  _x = merged.pivot_table(index=\"client_id\")[\"total_sales\"]\n"
     ]
    },
    {
     "data": {
      "image/png": "[encoded data removed]",
      "text/plain": [
       "<Figure size 640x480 with 1 Axes>"
      ]
     },
     "metadata": {},
     "output_type": "display_data"
    },
    {
     "name": "stdout",
     "output_type": "stream",
     "text": [
      "0.49479439879778564\n"
     ]
    }
   ],
   "source": [
    "fig, ax = plt.subplots()\n",
    "_x = merged.pivot_table(index=\"client_id\")[\"total_sales\"]\n",
    "lorenz_curve(X=_x, ax=ax)\n",
    "plt.title(\"total_sales integrity\")\n",
    "plt.show()\n",
    "print(gini(_x))"
   ]
  },
  {
   "cell_type": "markdown",
   "metadata": {},
   "source": [
    "# Some plots"
   ]
  },
  {
   "cell_type": "code",
   "execution_count": 114,
   "metadata": {},
   "outputs": [
    {
     "data": {
      "image/png": "[encoded data removed]",
      "text/plain": [
       "<Figure size 600x1000 with 2 Axes>"
      ]
     },
     "metadata": {},
     "output_type": "display_data"
    }
   ],
   "source": [
    "fig, axes = plt.subplots(2, figsize=(6, 10))\n",
    "fig.suptitle(\"Count of age per sex\")\n",
    "\n",
    "sns.histplot(ax=axes[0], y=merged[merged[\"sex\"]==\"m\"][\"age\"], bins=12)\n",
    "axes[0].set_title(\"Mans\")\n",
    "\n",
    "sns.histplot(ax=axes[1], y=merged[merged[\"sex\"]==\"f\"][\"age\"], bins=12)\n",
    "axes[1].set_title(\"Womans\")\n",
    "\n",
    "plt.show()"
   ]
  },
  {
   "cell_type": "markdown",
   "metadata": {},
   "source": [
    "We can see a small difference but the distribution looks same"
   ]
  },
  {
   "cell_type": "code",
   "execution_count": 115,
   "metadata": {},
   "outputs": [
    {
     "data": {
      "image/png": "[encoded data removed]",
      "text/plain": [
       "<Figure size 572.125x500 with 1 Axes>"
      ]
     },
     "metadata": {},
     "output_type": "display_data"
    }
   ],
   "source": [
    "sns.displot(data=merged, x=\"sex\", hue=\"categ\")\n",
    "plt.title(\"Sales per sex and per catego\")\n",
    "plt.show()"
   ]
  },
  {
   "cell_type": "markdown",
   "metadata": {},
   "source": [
    "We see that the sales for each sex are balanced. The categories appear in the same proportions"
   ]
  },
  {
   "cell_type": "code",
   "execution_count": 116,
   "metadata": {},
   "outputs": [
    {
     "data": {
      "text/plain": [
       "<Figure size 800x500 with 0 Axes>"
      ]
     },
     "metadata": {},
     "output_type": "display_data"
    },
    {
     "data": {
      "image/png": "[encoded data removed]",
      "text/plain": [
       "<Figure size 572.125x500 with 1 Axes>"
      ]
     },
     "metadata": {},
     "output_type": "display_data"
    }
   ],
   "source": [
    "plt.figure(figsize=(8,5))\n",
    "sns.displot(data=merged, x=\"age\", hue=\"categ\", kind=\"kde\", fill=True)\n",
    "plt.title(\"Sales per age and per categories\")\n",
    "plt.show()"
   ]
  },
  {
   "cell_type": "markdown",
   "metadata": {},
   "source": [
    "The 2 categories are consumed by all age groups. But the buyers of category 0 are mainly those 30-50 years old, while category 2 is consumed almost exclusively by those under 30 years old"
   ]
  },
  {
   "cell_type": "code",
   "execution_count": 117,
   "metadata": {},
   "outputs": [
    {
     "data": {
      "image/png": "[encoded data removed]",
      "text/plain": [
       "<Figure size 800x400 with 1 Axes>"
      ]
     },
     "metadata": {},
     "output_type": "display_data"
    }
   ],
   "source": [
    "plt.figure(figsize=(8, 4))\n",
    "sns.boxplot(data=merged.sort_values(by=\"age_classe\"), y=\"age_classe\", x=\"price\", showfliers=False, orient=\"h\")\n",
    "plt.title(\"Price per age class distribution\")\n",
    "plt.show()"
   ]
  },
  {
   "cell_type": "markdown",
   "metadata": {},
   "source": [
    "# Questions"
   ]
  },
  {
   "cell_type": "markdown",
   "metadata": {},
   "source": [
    "Y a-t-il une corrélation entre le sexe des clients et les catégories de produits achetés ?"
   ]
  },
  {
   "cell_type": "code",
   "execution_count": 118,
   "metadata": {},
   "outputs": [],
   "source": [
    "_df = merged.copy()\n",
    "_df[\"sex\"] = _df[\"sex\"].map({\n",
    "  \"f\": 0,\n",
    "  \"m\": 1\n",
    "})"
   ]
  },
  {
   "cell_type": "code",
   "execution_count": 121,
   "metadata": {},
   "outputs": [
    {
     "data": {
      "text/plain": [
       "<AxesSubplot: >"
      ]
     },
     "execution_count": 121,
     "metadata": {},
     "output_type": "execute_result"
    },
    {
     "data": {
      "image/png": "[encoded data removed]",
      "text/plain": [
       "<Figure size 640x480 with 2 Axes>"
      ]
     },
     "metadata": {},
     "output_type": "display_data"
    }
   ],
   "source": [
    "sns.heatmap(_df.corr(numeric_only=True), annot=True)"
   ]
  },
  {
   "cell_type": "markdown",
   "metadata": {},
   "source": [
    "On peut voir qu'il n'y a pas de corrélation entre ces deux vairables"
   ]
  },
  {
   "cell_type": "markdown",
   "metadata": {},
   "source": [
    "Y a-t-il une corrélation entre l'âge des clients et :"
   ]
  },
  {
   "cell_type": "markdown",
   "metadata": {},
   "source": [
    "Il y a pas de corrélation entre c'est deux variable (-0.021)"
   ]
  },
  {
   "cell_type": "markdown",
   "metadata": {},
   "source": [
    "La taille du panier moyen (en nombre d’articles):"
   ]
  },
  {
   "cell_type": "markdown",
   "metadata": {},
   "source": [
    "On peut voir qu'il y a une corrélation entre ces deux variables mais elle n'est pas significative (-0.42)"
   ]
  },
  {
   "cell_type": "markdown",
   "metadata": {},
   "source": [
    "Les catégories de produits achetés :"
   ]
  },
  {
   "cell_type": "markdown",
   "metadata": {},
   "source": [
    "Comme ont peut le voir sur le graphique \"Sales per age and per categories\" il y a une forte coorélation entre ces deux variables"
   ]
  }
 ],
 "metadata": {
  "kernelspec": {
   "display_name": "Python 3.8.13",
   "language": "python",
   "name": "python3"
  },
  "language_info": {
   "codemirror_mode": {
    "name": "ipython",
    "version": 3
   },
   "file_extension": ".py",
   "mimetype": "text/x-python",
   "name": "python",
   "nbconvert_exporter": "python",
   "pygments_lexer": "ipython3",
   "version": "3.8.13"
  },
  "orig_nbformat": 4,
  "vscode": {
   "interpreter": {
    "hash": "588d8f0627a9858cf848654a9cdf6dfe81b71b166af7023a4e519c6a2706f31b"
   }
  }
 },
 "nbformat": 4,
 "nbformat_minor": 2
}
